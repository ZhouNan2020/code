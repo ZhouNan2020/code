{
 "cells": [
  {
   "cell_type": "code",
   "id": "initial_id",
   "metadata": {
    "collapsed": true,
    "ExecuteTime": {
     "end_time": "2024-05-22T01:47:44.028518Z",
     "start_time": "2024-05-22T01:47:43.994069Z"
    }
   },
   "source": [
    "import pandas as pd\n",
    "# 读取C:\\MyProject\\MIMIC-IPE\\加了中介变量的数据集\\用于统计的完整数据集.csv\n",
    "df = pd.read_csv(r'C:\\MyProject\\MIMIC-IPE\\加了中介变量的数据集\\用于统计的完整数据集.csv')\n",
    "#使用一个dataframe呈现df的所有列名和数据类型\n",
    "dfdol=pd.DataFrame(df.dtypes, columns=['数据类型'])\n",
    "\n",
    "# 设置Subject_id列为索引，删除hadm_id列\n",
    "df.set_index('Subject_id', inplace=True)\n",
    "df.drop(columns='Hadm_id', inplace=True)\n",
    "'''按以下顺序保留以下列：\n",
    "Group\n",
    "F.Hosp\n",
    "FXaI\n",
    "UFH\n",
    "Age\n",
    "CVD_MD_HF\n",
    "CVD_MD_No CVD_MD\n",
    "TD_No TD\n",
    "TD_Non_Solid_Tumor\n",
    "TD_Other_Solid_Tumor\n",
    "T.O.D_180d\n",
    "D180D\n",
    "'''\n",
    "df = df[['Group', 'F.Hosp', 'FXaI', 'UFH', 'Age', 'CVD_MD_HF', 'CVD_MD_No CVD_MD', 'TD_No TD', 'TD_Non_Solid_Tumor', 'TD_Other_Solid_Tumor', 'T.O.D_180d', 'D180D']]\n",
    "'''列名重塑，按照以下规则\n",
    "TD_No TD：'No TD',\n",
    "CVD_MD_HF：'HF',\n",
    "CVD_MD_No CVD_MD：'No CVD MD',\n",
    "TD_Non_Solid_Tumor：'Non Solid Tumor',\n",
    "TD_Other_Solid_Tumor：'Other Solid Tumor',\n",
    "'''\n",
    "df.rename(columns={\n",
    "    'TD_No TD': 'No TD',\n",
    "    'CVD_MD_HF': 'HF',\n",
    "    'CVD_MD_No CVD_MD': 'No CVD MD',\n",
    "    'TD_Non_Solid_Tumor': 'Non Solid Tumor',\n",
    "    'TD_Other_Solid_Tumor': 'Other Solid Tumor'\n",
    "}, inplace=True)"
   ],
   "outputs": [],
   "execution_count": 10
  },
  {
   "metadata": {
    "ExecuteTime": {
     "end_time": "2024-05-22T01:47:44.486842Z",
     "start_time": "2024-05-22T01:47:44.466152Z"
    }
   },
   "cell_type": "code",
   "source": [
    "# 保留数据集到C:\\MyProject\\MIMIC-IPE\\加了中介变量的数据集\\用于COX的特征数据集.csv\n",
    "df.to_csv(r'C:\\MyProject\\MIMIC-IPE\\加了中介变量的数据集\\用于COX的特征数据集.csv')"
   ],
   "id": "18d7de81032a2f0f",
   "outputs": [],
   "execution_count": 11
  },
  {
   "metadata": {},
   "cell_type": "code",
   "outputs": [],
   "execution_count": null,
   "source": "",
   "id": "bfa9f23c6010a617"
  }
 ],
 "metadata": {
  "kernelspec": {
   "display_name": "Python 3",
   "language": "python",
   "name": "python3"
  },
  "language_info": {
   "codemirror_mode": {
    "name": "ipython",
    "version": 2
   },
   "file_extension": ".py",
   "mimetype": "text/x-python",
   "name": "python",
   "nbconvert_exporter": "python",
   "pygments_lexer": "ipython2",
   "version": "2.7.6"
  }
 },
 "nbformat": 4,
 "nbformat_minor": 5
}
