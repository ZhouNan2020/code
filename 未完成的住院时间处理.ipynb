{
 "cells": [
  {
   "metadata": {
    "ExecuteTime": {
     "end_time": "2024-04-27T09:13:51.538561Z",
     "start_time": "2024-04-27T09:13:51.534132Z"
    }
   },
   "cell_type": "code",
   "source": [
    "import pandas as pd\n",
    "import numpy as np"
   ],
   "id": "initial_id",
   "outputs": [],
   "execution_count": 35
  },
  {
   "metadata": {
    "ExecuteTime": {
     "end_time": "2024-04-27T09:13:51.984559Z",
     "start_time": "2024-04-27T09:13:51.964507Z"
    }
   },
   "cell_type": "code",
   "source": [
    "# 读取C:\\MyProject\\MIMIC-IPE\\data\\9568例未完成的下一次住院时间计算表.csv\n",
    "df = pd.read_csv(r'C:\\MyProject\\MIMIC-IPE\\data\\9568例未完成的下一次住院时间计算表.csv')"
   ],
   "id": "8c00660092fe9882",
   "outputs": [],
   "execution_count": 36
  },
  {
   "metadata": {
    "ExecuteTime": {
     "end_time": "2024-04-27T09:13:53.200307Z",
     "start_time": "2024-04-27T09:13:52.408142Z"
    }
   },
   "cell_type": "code",
   "source": [
    "import pandas as pd\n",
    "\n",
    "# 假设df是你的数据框\n",
    "# 转换日期时间列\n",
    "df['admittime'] = pd.to_datetime(df['admittime'])\n",
    "df['dischtime'] = pd.to_datetime(df['dischtime'])\n",
    "\n",
    "# 确保数据按照subject_id和admittime排序\n",
    "df.sort_values(['subject_id', 'admittime'], inplace=True)\n",
    "\n",
    "# 标记next_PE为1的行\n",
    "df['pe_mark'] = df['next_PE'].eq(1)\n",
    "\n",
    "# 对每个subject_id计算时间差\n",
    "def calculate_time_diff(group):\n",
    "    # 选取next_PE为1的行的索引\n",
    "    pe_indices = group.index[group['pe_mark']]\n",
    "    if len(pe_indices) > 1:\n",
    "        # 取第一个和第二个next_PE为1的时间\n",
    "        first_pe_time = group.loc[pe_indices[0], 'dischtime']\n",
    "        second_pe_time = group.loc[pe_indices[1], 'admittime']\n",
    "        # 计算时间差并转换为天数\n",
    "        time_diff = (second_pe_time - first_pe_time).days\n",
    "        group.loc[pe_indices[1], 'next_PE_day'] = time_diff\n",
    "    return group\n",
    "\n",
    "# 应用函数到每个subject_id组\n",
    "df = df.groupby('subject_id').apply(calculate_time_diff)\n",
    "\n",
    "# 清理辅助列\n",
    "# df.drop('pe_mark', axis=1, inplace=True)\n"
   ],
   "id": "663aed759e566cda",
   "outputs": [
    {
     "name": "stderr",
     "output_type": "stream",
     "text": [
      "C:\\Users\\ZhouNan\\AppData\\Local\\Temp\\ipykernel_9732\\477191911.py:28: DeprecationWarning: DataFrameGroupBy.apply operated on the grouping columns. This behavior is deprecated, and in a future version of pandas the grouping columns will be excluded from the operation. Either pass `include_groups=False` to exclude the groupings or explicitly select the grouping columns after groupby to silence this warning.\n",
      "  df = df.groupby('subject_id').apply(calculate_time_diff)\n"
     ]
    }
   ],
   "execution_count": 37
  },
  {
   "metadata": {
    "ExecuteTime": {
     "end_time": "2024-04-27T09:13:53.205966Z",
     "start_time": "2024-04-27T09:13:53.201334Z"
    }
   },
   "cell_type": "code",
   "source": [
    "# 重置索引\n",
    "df.reset_index(drop=True, inplace=True)"
   ],
   "id": "fe774fb63d3cf4b3",
   "outputs": [],
   "execution_count": 38
  },
  {
   "metadata": {
    "ExecuteTime": {
     "end_time": "2024-04-27T09:13:55.982119Z",
     "start_time": "2024-04-27T09:13:53.534292Z"
    }
   },
   "cell_type": "code",
   "source": [
    "import pandas as pd\n",
    "import numpy as np\n",
    "\n",
    "def process_group(group):\n",
    "    # 保留pe_mark为True的行的hadm_id值\n",
    "    first_hadm_id = group.loc[group['pe_mark'], 'hadm_id'].values[0]\n",
    "\n",
    "    # 检查是否存在next_PE_day非NaN的行\n",
    "    if group['next_PE_day'].notna().any():\n",
    "        # 优先保留next_PE_day非NaN所在行的数据\n",
    "        group = group[group['next_PE_day'].notna()]\n",
    "    else:\n",
    "        # 如果next_PE_day全部为NaN，则将next_PE设为0\n",
    "        group['next_PE'] = 0\n",
    "\n",
    "    # hadm_id列使用pe_mark为True的行的hadm_id值\n",
    "    group['hadm_id'] = first_hadm_id\n",
    "\n",
    "    # 保留每列的第一个非NaN值\n",
    "    return group.ffill().bfill().iloc[0]\n",
    "\n",
    "# 应用自定义函数处理每个分组\n",
    "result_df = df.groupby('subject_id').apply(process_group).reset_index(drop=True)\n",
    "\n",
    "print(result_df)\n"
   ],
   "id": "64be6b388dc974b2",
   "outputs": [
    {
     "name": "stdout",
     "output_type": "stream",
     "text": [
      "      subject_id   hadm_id           admittime           dischtime  seq_hosp  \\\n",
      "0       10001401  24818636 2131-06-04 00:00:00 2131-06-15 16:10:00         1   \n",
      "1       10002221  21008195 2200-09-29 17:28:00 2200-10-01 14:58:00         1   \n",
      "2       10015272  27993466 2137-06-12 18:36:00 2137-06-18 15:45:00         1   \n",
      "3       10015568  26581506 2143-08-19 18:11:00 2143-08-22 18:54:00         1   \n",
      "4       10018928  22523751 2125-02-27 08:58:00 2125-03-10 17:00:00         1   \n",
      "...          ...       ...                 ...                 ...       ...   \n",
      "2034    19990141  24852269 2133-03-04 17:34:00 2133-03-05 17:30:00         1   \n",
      "2035    19991135  29872770 2124-02-17 08:30:00 2124-02-20 08:50:00         1   \n",
      "2036    19995127  27369164 2138-03-07 14:04:00 2138-03-11 14:53:00         1   \n",
      "2037    19995320  21633275 2136-10-05 00:31:00 2136-10-06 21:11:00         1   \n",
      "2038    19997576  25548363 2187-10-07 22:35:00 2187-10-10 19:50:00         1   \n",
      "\n",
      "      next_PE  pe_mark  next_PE_day  \n",
      "0           0    False          NaN  \n",
      "1           0     True          NaN  \n",
      "2           0     True          NaN  \n",
      "3           0     True          NaN  \n",
      "4           0     True          NaN  \n",
      "...       ...      ...          ...  \n",
      "2034        0     True          NaN  \n",
      "2035        0    False          NaN  \n",
      "2036        0    False          NaN  \n",
      "2037        0     True          NaN  \n",
      "2038        0     True          NaN  \n",
      "\n",
      "[2039 rows x 8 columns]\n"
     ]
    },
    {
     "name": "stderr",
     "output_type": "stream",
     "text": [
      "C:\\Users\\ZhouNan\\AppData\\Local\\Temp\\ipykernel_9732\\27726977.py:23: DeprecationWarning: DataFrameGroupBy.apply operated on the grouping columns. This behavior is deprecated, and in a future version of pandas the grouping columns will be excluded from the operation. Either pass `include_groups=False` to exclude the groupings or explicitly select the grouping columns after groupby to silence this warning.\n",
      "  result_df = df.groupby('subject_id').apply(process_group).reset_index(drop=True)\n"
     ]
    }
   ],
   "execution_count": 39
  },
  {
   "metadata": {
    "ExecuteTime": {
     "end_time": "2024-04-27T09:13:55.993359Z",
     "start_time": "2024-04-27T09:13:55.984143Z"
    }
   },
   "cell_type": "code",
   "source": [
    "# 读取C:\\MyProject\\MIMIC-IPE\\加了中介变量的数据集\\再入院情况表.csv\n",
    "df2 = pd.read_csv(r'C:\\MyProject\\MIMIC-IPE\\加了中介变量的数据集\\再入院情况表.csv')"
   ],
   "id": "97394a6221dd5b0",
   "outputs": [],
   "execution_count": 40
  },
  {
   "metadata": {
    "ExecuteTime": {
     "end_time": "2024-04-27T09:13:56.032198Z",
     "start_time": "2024-04-27T09:13:55.994370Z"
    }
   },
   "cell_type": "code",
   "source": [
    "# 使用 'next_PE_day' 列的最大值填充 NaN 值\n",
    "result_df['next_PE_day'].fillna(result_df['next_PE_day'].max(), inplace=True)\n",
    "\n",
    "# 合并 df 和 df2，保留df2的所有行和所有列\n",
    "merged_df = pd.merge(result_df[['subject_id', 'hadm_id', 'seq_hosp', 'next_PE', 'next_PE_day']], df2, on=['subject_id', 'hadm_id'], how='right')\n",
    "merged_df"
   ],
   "id": "b6f39a8326380c72",
   "outputs": [
    {
     "name": "stderr",
     "output_type": "stream",
     "text": [
      "C:\\Users\\ZhouNan\\AppData\\Local\\Temp\\ipykernel_9732\\2097299534.py:2: FutureWarning: A value is trying to be set on a copy of a DataFrame or Series through chained assignment using an inplace method.\n",
      "The behavior will change in pandas 3.0. This inplace method will never work because the intermediate object on which we are setting values always behaves as a copy.\n",
      "\n",
      "For example, when doing 'df[col].method(value, inplace=True)', try using 'df.method({col: value}, inplace=True)' or df[col] = df[col].method(value) instead, to perform the operation inplace on the original object.\n",
      "\n",
      "\n",
      "  result_df['next_PE_day'].fillna(result_df['next_PE_day'].max(), inplace=True)\n"
     ]
    },
    {
     "data": {
      "text/plain": [
       "      subject_id   hadm_id  seq_hosp  next_PE  next_PE_day Group_Label  \\\n",
       "0       10001401  24818636         1        0       3206.0      DVT-PE   \n",
       "1       10002221  21008195         1        0       3206.0         IPE   \n",
       "2       10015272  27993466         1        0       3206.0      DVT-PE   \n",
       "3       10015568  26581506         1        0       3206.0         IPE   \n",
       "4       10018928  22523751         1        0       3206.0         IPE   \n",
       "...          ...       ...       ...      ...          ...         ...   \n",
       "2034    19990141  24852269         1        0       3206.0      DVT-PE   \n",
       "2035    19991135  29872770         1        0       3206.0      DVT-PE   \n",
       "2036    19995127  27369164         1        0       3206.0         IPE   \n",
       "2037    19995320  21633275         1        0       3206.0         IPE   \n",
       "2038    19997576  25548363         1        0       3206.0      DVT-PE   \n",
       "\n",
       "      re_inhosp  re_inhosp_time next_admission_type  first_hosp  \n",
       "0             0             NaN   OBSERVATION ADMIT           0  \n",
       "1             0             NaN            EW EMER.           1  \n",
       "2             0             NaN            EW EMER.           1  \n",
       "3             0             NaN            EW EMER.           1  \n",
       "4             0             NaN            EW EMER.           1  \n",
       "...         ...             ...                 ...         ...  \n",
       "2034          0             NaN   OBSERVATION ADMIT           1  \n",
       "2035          0             NaN            EW EMER.           0  \n",
       "2036          0             NaN            EW EMER.           0  \n",
       "2037          0             NaN            EW EMER.           1  \n",
       "2038          0             NaN   OBSERVATION ADMIT           1  \n",
       "\n",
       "[2039 rows x 10 columns]"
      ],
      "text/html": [
       "<div>\n",
       "<style scoped>\n",
       "    .dataframe tbody tr th:only-of-type {\n",
       "        vertical-align: middle;\n",
       "    }\n",
       "\n",
       "    .dataframe tbody tr th {\n",
       "        vertical-align: top;\n",
       "    }\n",
       "\n",
       "    .dataframe thead th {\n",
       "        text-align: right;\n",
       "    }\n",
       "</style>\n",
       "<table border=\"1\" class=\"dataframe\">\n",
       "  <thead>\n",
       "    <tr style=\"text-align: right;\">\n",
       "      <th></th>\n",
       "      <th>subject_id</th>\n",
       "      <th>hadm_id</th>\n",
       "      <th>seq_hosp</th>\n",
       "      <th>next_PE</th>\n",
       "      <th>next_PE_day</th>\n",
       "      <th>Group_Label</th>\n",
       "      <th>re_inhosp</th>\n",
       "      <th>re_inhosp_time</th>\n",
       "      <th>next_admission_type</th>\n",
       "      <th>first_hosp</th>\n",
       "    </tr>\n",
       "  </thead>\n",
       "  <tbody>\n",
       "    <tr>\n",
       "      <th>0</th>\n",
       "      <td>10001401</td>\n",
       "      <td>24818636</td>\n",
       "      <td>1</td>\n",
       "      <td>0</td>\n",
       "      <td>3206.0</td>\n",
       "      <td>DVT-PE</td>\n",
       "      <td>0</td>\n",
       "      <td>NaN</td>\n",
       "      <td>OBSERVATION ADMIT</td>\n",
       "      <td>0</td>\n",
       "    </tr>\n",
       "    <tr>\n",
       "      <th>1</th>\n",
       "      <td>10002221</td>\n",
       "      <td>21008195</td>\n",
       "      <td>1</td>\n",
       "      <td>0</td>\n",
       "      <td>3206.0</td>\n",
       "      <td>IPE</td>\n",
       "      <td>0</td>\n",
       "      <td>NaN</td>\n",
       "      <td>EW EMER.</td>\n",
       "      <td>1</td>\n",
       "    </tr>\n",
       "    <tr>\n",
       "      <th>2</th>\n",
       "      <td>10015272</td>\n",
       "      <td>27993466</td>\n",
       "      <td>1</td>\n",
       "      <td>0</td>\n",
       "      <td>3206.0</td>\n",
       "      <td>DVT-PE</td>\n",
       "      <td>0</td>\n",
       "      <td>NaN</td>\n",
       "      <td>EW EMER.</td>\n",
       "      <td>1</td>\n",
       "    </tr>\n",
       "    <tr>\n",
       "      <th>3</th>\n",
       "      <td>10015568</td>\n",
       "      <td>26581506</td>\n",
       "      <td>1</td>\n",
       "      <td>0</td>\n",
       "      <td>3206.0</td>\n",
       "      <td>IPE</td>\n",
       "      <td>0</td>\n",
       "      <td>NaN</td>\n",
       "      <td>EW EMER.</td>\n",
       "      <td>1</td>\n",
       "    </tr>\n",
       "    <tr>\n",
       "      <th>4</th>\n",
       "      <td>10018928</td>\n",
       "      <td>22523751</td>\n",
       "      <td>1</td>\n",
       "      <td>0</td>\n",
       "      <td>3206.0</td>\n",
       "      <td>IPE</td>\n",
       "      <td>0</td>\n",
       "      <td>NaN</td>\n",
       "      <td>EW EMER.</td>\n",
       "      <td>1</td>\n",
       "    </tr>\n",
       "    <tr>\n",
       "      <th>...</th>\n",
       "      <td>...</td>\n",
       "      <td>...</td>\n",
       "      <td>...</td>\n",
       "      <td>...</td>\n",
       "      <td>...</td>\n",
       "      <td>...</td>\n",
       "      <td>...</td>\n",
       "      <td>...</td>\n",
       "      <td>...</td>\n",
       "      <td>...</td>\n",
       "    </tr>\n",
       "    <tr>\n",
       "      <th>2034</th>\n",
       "      <td>19990141</td>\n",
       "      <td>24852269</td>\n",
       "      <td>1</td>\n",
       "      <td>0</td>\n",
       "      <td>3206.0</td>\n",
       "      <td>DVT-PE</td>\n",
       "      <td>0</td>\n",
       "      <td>NaN</td>\n",
       "      <td>OBSERVATION ADMIT</td>\n",
       "      <td>1</td>\n",
       "    </tr>\n",
       "    <tr>\n",
       "      <th>2035</th>\n",
       "      <td>19991135</td>\n",
       "      <td>29872770</td>\n",
       "      <td>1</td>\n",
       "      <td>0</td>\n",
       "      <td>3206.0</td>\n",
       "      <td>DVT-PE</td>\n",
       "      <td>0</td>\n",
       "      <td>NaN</td>\n",
       "      <td>EW EMER.</td>\n",
       "      <td>0</td>\n",
       "    </tr>\n",
       "    <tr>\n",
       "      <th>2036</th>\n",
       "      <td>19995127</td>\n",
       "      <td>27369164</td>\n",
       "      <td>1</td>\n",
       "      <td>0</td>\n",
       "      <td>3206.0</td>\n",
       "      <td>IPE</td>\n",
       "      <td>0</td>\n",
       "      <td>NaN</td>\n",
       "      <td>EW EMER.</td>\n",
       "      <td>0</td>\n",
       "    </tr>\n",
       "    <tr>\n",
       "      <th>2037</th>\n",
       "      <td>19995320</td>\n",
       "      <td>21633275</td>\n",
       "      <td>1</td>\n",
       "      <td>0</td>\n",
       "      <td>3206.0</td>\n",
       "      <td>IPE</td>\n",
       "      <td>0</td>\n",
       "      <td>NaN</td>\n",
       "      <td>EW EMER.</td>\n",
       "      <td>1</td>\n",
       "    </tr>\n",
       "    <tr>\n",
       "      <th>2038</th>\n",
       "      <td>19997576</td>\n",
       "      <td>25548363</td>\n",
       "      <td>1</td>\n",
       "      <td>0</td>\n",
       "      <td>3206.0</td>\n",
       "      <td>DVT-PE</td>\n",
       "      <td>0</td>\n",
       "      <td>NaN</td>\n",
       "      <td>OBSERVATION ADMIT</td>\n",
       "      <td>1</td>\n",
       "    </tr>\n",
       "  </tbody>\n",
       "</table>\n",
       "<p>2039 rows × 10 columns</p>\n",
       "</div>"
      ]
     },
     "execution_count": 41,
     "metadata": {},
     "output_type": "execute_result"
    }
   ],
   "execution_count": 41
  },
  {
   "metadata": {
    "ExecuteTime": {
     "end_time": "2024-04-27T09:13:56.038580Z",
     "start_time": "2024-04-27T09:13:56.034222Z"
    }
   },
   "cell_type": "code",
   "source": [
    "# next_PE列缺失值使用0值填充\n",
    "merged_df['next_PE'].fillna(0, inplace=True)\n"
   ],
   "id": "161b41c129d92511",
   "outputs": [
    {
     "name": "stderr",
     "output_type": "stream",
     "text": [
      "C:\\Users\\ZhouNan\\AppData\\Local\\Temp\\ipykernel_9732\\2269056706.py:2: FutureWarning: A value is trying to be set on a copy of a DataFrame or Series through chained assignment using an inplace method.\n",
      "The behavior will change in pandas 3.0. This inplace method will never work because the intermediate object on which we are setting values always behaves as a copy.\n",
      "\n",
      "For example, when doing 'df[col].method(value, inplace=True)', try using 'df.method({col: value}, inplace=True)' or df[col] = df[col].method(value) instead, to perform the operation inplace on the original object.\n",
      "\n",
      "\n",
      "  merged_df['next_PE'].fillna(0, inplace=True)\n"
     ]
    }
   ],
   "execution_count": 42
  },
  {
   "metadata": {
    "ExecuteTime": {
     "end_time": "2024-04-27T09:13:58.681104Z",
     "start_time": "2024-04-27T09:13:58.667848Z"
    }
   },
   "cell_type": "code",
   "source": [
    "# merged_df保存到C:\\MyProject\\MIMIC-IPE\\加了中介变量的数据集\\下一次PE入院情况表.csv\n",
    "merged_df.to_csv(r'C:\\MyProject\\MIMIC-IPE\\加了中介变量的数据集\\下一次PE入院情况表.csv', index=False)"
   ],
   "id": "dbd7adf34b343388",
   "outputs": [],
   "execution_count": 43
  },
  {
   "metadata": {},
   "cell_type": "code",
   "outputs": [],
   "execution_count": null,
   "source": "",
   "id": "596d6e721054abcc"
  }
 ],
 "metadata": {
  "kernelspec": {
   "display_name": "Python 3",
   "language": "python",
   "name": "python3"
  },
  "language_info": {
   "codemirror_mode": {
    "name": "ipython",
    "version": 2
   },
   "file_extension": ".py",
   "mimetype": "text/x-python",
   "name": "python",
   "nbconvert_exporter": "python",
   "pygments_lexer": "ipython2",
   "version": "2.7.6"
  }
 },
 "nbformat": 4,
 "nbformat_minor": 5
}
