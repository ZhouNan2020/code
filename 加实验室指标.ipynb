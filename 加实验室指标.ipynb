{
 "cells": [
  {
   "cell_type": "code",
   "id": "initial_id",
   "metadata": {
    "collapsed": true,
    "ExecuteTime": {
     "end_time": "2024-05-13T02:49:06.467338Z",
     "start_time": "2024-05-13T02:49:05.745613Z"
    }
   },
   "source": "import pandas as pd",
   "outputs": [],
   "execution_count": 1
  },
  {
   "metadata": {
    "ExecuteTime": {
     "end_time": "2024-05-13T02:49:06.548836Z",
     "start_time": "2024-05-13T02:49:06.469351Z"
    }
   },
   "cell_type": "code",
   "source": [
    "# 读取CSV文件\n",
    "file_path = r'C:\\MyProject\\MIMIC-IPE\\data\\base10.csv'\n",
    "data = pd.read_csv(file_path)\n",
    "# data只保留stay_id列值不为空的行\n",
    "data = data[data['stay_id'].notnull()]\n",
    "# 获取列名\n",
    "columns = data.columns\n",
    "# 创建新的 DataFrame 来保存列名\n",
    "column_df = pd.DataFrame(columns, columns=['Column_Names'])\n",
    "'''\n",
    "subject_id\n",
    "hadm_id\n",
    "hematocrit_min\n",
    "hematocrit_max\n",
    "hemoglobin_min\n",
    "hemoglobin_max\n",
    "platelets_min\n",
    "platelets_max\n",
    "wbc_min\n",
    "wbc_max\n",
    "albumin_min\n",
    "albumin_max\n",
    "globulin_min\n",
    "globulin_max\n",
    "total_protein_min\n",
    "total_protein_max\n",
    "aniongap_min\n",
    "aniongap_max\n",
    "bicarbonate_min\n",
    "bicarbonate_max\n",
    "bun_min\n",
    "bun_max\n",
    "calcium_min\n",
    "calcium_max\n",
    "chloride_min\n",
    "chloride_max\n",
    "creatinine_min\n",
    "creatinine_max\n",
    "glucose_min\n",
    "glucose_max\n",
    "sodium_min\n",
    "sodium_max\n",
    "potassium_min\n",
    "potassium_max\n",
    "abs_basophils_min\n",
    "abs_basophils_max\n",
    "abs_eosinophils_min\n",
    "abs_eosinophils_max\n",
    "abs_lymphocytes_min\n",
    "abs_lymphocytes_max\n",
    "abs_monocytes_min\n",
    "abs_monocytes_max\n",
    "abs_neutrophils_min\n",
    "abs_neutrophils_max\n",
    "atyps_min\n",
    "atyps_max\n",
    "bands_min\n",
    "bands_max\n",
    "imm_granulocytes_min\n",
    "imm_granulocytes_max\n",
    "metas_min\n",
    "metas_max\n",
    "nrbc_min\n",
    "nrbc_max\n",
    "d_dimer_min\n",
    "d_dimer_max\n",
    "fibrinogen_min\n",
    "fibrinogen_max\n",
    "thrombin_min\n",
    "thrombin_max\n",
    "inr_min\n",
    "inr_max\n",
    "pt_min\n",
    "pt_max\n",
    "ptt_min\n",
    "ptt_max\n",
    "alt_min\n",
    "alt_max\n",
    "alp_min\n",
    "alp_max\n",
    "ast_min\n",
    "ast_max\n",
    "amylase_min\n",
    "amylase_max\n",
    "bilirubin_total_min\n",
    "bilirubin_total_max\n",
    "bilirubin_direct_min\n",
    "bilirubin_direct_max\n",
    "bilirubin_indirect_min\n",
    "bilirubin_indirect_max\n",
    "ck_cpk_min\n",
    "ck_cpk_max\n",
    "ck_mb_min\n",
    "ck_mb_max\n",
    "ggt_min\n",
    "ggt_max\n",
    "ld_ldh_min\n",
    "ld_ldh_max\n",
    "fibrinogen_max\n",
    "thrombin_min\n",
    "thrombin_max\n",
    "inr_min\n",
    "inr_max\n",
    "pt_min\n",
    "pt_max\n",
    "ptt_min\n",
    "ptt_max\n",
    "alt_min\n",
    "alt_max\n",
    "alp_min\n",
    "alp_max\n",
    "ast_min\n",
    "ast_max\n",
    "amylase_min\n",
    "amylase_max\n",
    "bilirubin_total_min\n",
    "bilirubin_total_max\n",
    "bilirubin_direct_min\n",
    "bilirubin_direct_max\n",
    "bilirubin_indirect_min\n",
    "bilirubin_indirect_max\n",
    "ck_cpk_min\n",
    "ck_cpk_max\n",
    "ck_mb_min\n",
    "ck_mb_max\n",
    "ggt_min\n",
    "ggt_max\n",
    "ld_ldh_min\n",
    "ld_ldh_max\n",
    "'''\n",
    "# 提取data中的以上列，命名为一个新的DataFrame，命名为data_new\n",
    "data_new = data[['subject_id', 'hadm_id', 'hematocrit_min', 'hematocrit_max', 'hemoglobin_min', 'hemoglobin_max', 'platelets_min', 'platelets_max', 'wbc_min', 'wbc_max', 'albumin_min', 'albumin_max', 'globulin_min', 'globulin_max', 'total_protein_min', 'total_protein_max', 'aniongap_min', 'aniongap_max', 'bicarbonate_min', 'bicarbonate_max', 'bun_min', 'bun_max', 'calcium_min', 'calcium_max', 'chloride_min', 'chloride_max', 'creatinine_min', 'creatinine_max', 'glucose_min', 'glucose_max', 'sodium_min', 'sodium_max', 'potassium_min', 'potassium_max', 'abs_basophils_min', 'abs_basophils_max', 'abs_eosinophils_min', 'abs_eosinophils_max', 'abs_lymphocytes_min', 'abs_lymphocytes_max', 'abs_monocytes_min', 'abs_monocytes_max', 'abs_neutrophils_min', 'abs_neutrophils_max', 'atyps_min', 'atyps_max', 'bands_min', 'bands_max', 'imm_granulocytes_min', 'imm_granulocytes_max', 'metas_min', 'metas_max', 'nrbc_min', 'nrbc_max', 'd_dimer_min', 'd_dimer_max', 'fibrinogen_min', 'fibrinogen_max', 'thrombin_min', 'thrombin_max', 'inr_min', 'inr_max', 'pt_min', 'pt_max', 'ptt_min', 'ptt_max', 'alt_min', 'alt_max', 'alp_min', 'alp_max', 'ast_min', 'ast_max', 'amylase_min', 'amylase_max', 'bilirubin_total_min', 'bilirubin_total_max', 'bilirubin_direct_min', 'bilirubin_direct_max', 'bilirubin_indirect_min', 'bilirubin_indirect_max', 'ck_cpk_min', 'ck_cpk_max', 'ck_mb_min', 'ck_mb_max', 'ggt_min', 'ggt_max',\n",
    "                    'ld_ldh_min', 'ld_ldh_max', 'fibrinogen_max', 'thrombin_min', 'thrombin_max', 'inr_min', 'inr_max', 'pt_min', 'pt_max', 'ptt_min', 'ptt_max', 'alt_min', 'alt_max', 'alp_min', 'alp_max', 'ast_min', 'ast_max', 'amylase_min', 'amylase_max', 'bilirubin_total_min', 'bilirubin_total_max', 'bilirubin_direct_min', 'bilirubin_direct_max', 'bilirubin_indirect_min', 'bilirubin_indirect_max', 'ck_cpk_min', 'ck_cpk_max', 'ck_mb_min', 'ck_mb_max', 'ggt_min', 'ggt_max', 'ld_ldh_min', 'ld_ldh_max']]\n",
    "# 遍历data_new的列名，只保留列名后缀为“min”或“max”的列，以及subject_id和hadm_id\n",
    "for i in data_new.columns:\n",
    "    if i[-3:] != 'min' and i[-3:] != 'max' and i != 'subject_id' and i != 'hadm_id':\n",
    "        data_new.drop(i, axis=1, inplace=True)\n",
    "# 查看data_new的列名，列中空值计数以及空值占比，形成一个新的DataFrame，命名为data_new_info\n",
    "data_new_info = pd.DataFrame(data_new.columns, columns=['Column_Names'])\n",
    "data_new_info['Null_Count'] = data_new.isnull().sum().values\n",
    "data_new_info['Null_Percentage'] = data_new.isnull().sum().values / data_new.shape[0]\n",
    "\n",
    "# 删除data_new中空值占比大于0.3的列\n",
    "# Get columns where the percentage of null values is greater than 0.3\n",
    "columns_to_drop = data_new_info[data_new_info['Null_Percentage'] > 0.2]['Column_Names']\n",
    "\n",
    "# Drop these columns from data_new\n",
    "data_new = data_new.drop(columns_to_drop, axis=1)\n",
    "# 查看data_new的列名，列中空值计数以及空值占比，形成一个新的DataFrame，命名为data_new_info\n",
    "data_new_info = pd.DataFrame(data_new.columns, columns=['Column_Names'])\n",
    "data_new_info['Null_Count'] = data_new.isnull().sum().values\n",
    "data_new_info['Null_Percentage'] = data_new.isnull().sum().values / data_new.shape[0]\n",
    "# 删除data_new中列名重复的列\n",
    "data_new = data_new.loc[:, ~data_new.columns.duplicated()]\n",
    "# 查看data_new的列名，列中空值计数以及空值占比，形成一个新的DataFrame，命名为data_new_info\n",
    "data_new_info = pd.DataFrame(data_new.columns, columns=['Column_Names'])\n",
    "data_new_info['Null_Count'] = data_new.isnull().sum().values\n",
    "data_new_info['Null_Percentage'] = data_new.isnull().sum().values / data_new.shape[0]\n",
    "# 将data_new中列名的首字母全部大写\n",
    "data_new.columns = [i.capitalize() for i in data_new.columns]"
   ],
   "id": "31c4ed710d05a7b7",
   "outputs": [],
   "execution_count": 2
  },
  {
   "metadata": {
    "ExecuteTime": {
     "end_time": "2024-05-13T02:49:06.560893Z",
     "start_time": "2024-05-13T02:49:06.550854Z"
    }
   },
   "cell_type": "code",
   "source": [
    "# 查看data_new的列名，列中空值计数以及空值占比，形成一个新的DataFrame，命名为data_new_info\n",
    "data_new_info = pd.DataFrame(data_new.columns, columns=['Column_Names'])\n",
    "data_new_info['Null_Count'] = data_new.isnull().sum().values\n",
    "data_new_info['Null_Percentage'] = data_new.isnull().sum().values / data_new.shape[0]"
   ],
   "id": "fe785e79359ba8dd",
   "outputs": [],
   "execution_count": 3
  },
  {
   "metadata": {
    "ExecuteTime": {
     "end_time": "2024-05-13T02:49:06.571571Z",
     "start_time": "2024-05-13T02:49:06.563911Z"
    }
   },
   "cell_type": "code",
   "source": [
    "# 设置subject_id、hadm_id为索引\n",
    "data_new.set_index(['Subject_id', 'Hadm_id'], inplace=True)\n"
   ],
   "id": "399460f7e2aebfac",
   "outputs": [],
   "execution_count": 4
  },
  {
   "metadata": {
    "ExecuteTime": {
     "end_time": "2024-05-13T02:49:06.611281Z",
     "start_time": "2024-05-13T02:49:06.573583Z"
    }
   },
   "cell_type": "code",
   "source": [
    "# 使用均值填充data_new中的缺失值\n",
    "data_new.fillna(data_new.mean(), inplace=True)\n"
   ],
   "id": "67b55f5d52f118af",
   "outputs": [],
   "execution_count": 5
  },
  {
   "metadata": {
    "ExecuteTime": {
     "end_time": "2024-05-13T02:49:06.638838Z",
     "start_time": "2024-05-13T02:49:06.612293Z"
    }
   },
   "cell_type": "code",
   "source": [
    "# 读取C:\\MyProject\\MIMIC-IPE\\加了中介变量的数据集\\用于统计的ICU数据集.csv\n",
    "file_path = r'C:\\MyProject\\MIMIC-IPE\\加了中介变量的数据集\\用于统计的ICU数据集.csv'\n",
    "data_icu = pd.read_csv(file_path)\n",
    "# 按照subject_id和hadm_id合并data_new和data_icu\n",
    "data = pd.merge(data_new, data_icu, on=['Subject_id', 'Hadm_id'], how='inner')\n",
    "# 查看data的列名，列中空值计数以及空值占比，形成一个新的DataFrame，命名为data_info\n",
    "data_info = pd.DataFrame(data.columns, columns=['Column_Names'])\n",
    "data_info['Null_Count'] = data.isnull().sum().values\n",
    "data_info['Null_Percentage'] = data.isnull().sum().values / data.shape[0]\n"
   ],
   "id": "c6c5f969cb9afe8f",
   "outputs": [],
   "execution_count": 6
  },
  {
   "metadata": {
    "ExecuteTime": {
     "end_time": "2024-05-13T02:49:06.680286Z",
     "start_time": "2024-05-13T02:49:06.640846Z"
    }
   },
   "cell_type": "code",
   "source": [
    "# 保存到C:\\MyProject\\MIMIC-IPE\\加了中介变量的数据集\\加了实验室指标的ICU数据集.csv\n",
    "file_path = r'C:\\MyProject\\MIMIC-IPE\\加了中介变量的数据集\\加了实验室指标的ICU数据集.csv'\n",
    "data.to_csv(file_path, index=False)\n"
   ],
   "id": "fc5d6f06e90bff1",
   "outputs": [],
   "execution_count": 7
  },
  {
   "metadata": {},
   "cell_type": "code",
   "outputs": [],
   "execution_count": null,
   "source": "",
   "id": "1ea24ca378372d82"
  }
 ],
 "metadata": {
  "kernelspec": {
   "display_name": "Python 3",
   "language": "python",
   "name": "python3"
  },
  "language_info": {
   "codemirror_mode": {
    "name": "ipython",
    "version": 2
   },
   "file_extension": ".py",
   "mimetype": "text/x-python",
   "name": "python",
   "nbconvert_exporter": "python",
   "pygments_lexer": "ipython2",
   "version": "2.7.6"
  }
 },
 "nbformat": 4,
 "nbformat_minor": 5
}
