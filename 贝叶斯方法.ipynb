{
 "cells": [
  {
   "cell_type": "code",
   "id": "initial_id",
   "metadata": {
    "collapsed": true,
    "ExecuteTime": {
     "end_time": "2024-05-01T15:45:15.585037Z",
     "start_time": "2024-05-01T15:45:15.336679Z"
    }
   },
   "source": [
    "import pandas as pd\n",
    "\n",
    "# Load the data from the uploaded Excel file\n",
    "data_path = 'C:\\MyProject\\MIMIC-IPE\\加了中介变量的数据集\\贝叶斯数据集.xlsx'\n",
    "data = pd.read_excel(data_path)\n",
    "\n",
    "# Display the first few rows of the dataframe and a summary of the data\n",
    "data.head(), data.info(), data.describe()\n"
   ],
   "outputs": [
    {
     "name": "stdout",
     "output_type": "stream",
     "text": [
      "<class 'pandas.core.frame.DataFrame'>\n",
      "RangeIndex: 2039 entries, 0 to 2038\n",
      "Data columns (total 9 columns):\n",
      " #   Column                 Non-Null Count  Dtype  \n",
      "---  ------                 --------------  -----  \n",
      " 0   Subject_id             2039 non-null   int64  \n",
      " 1   Hadm_id                2039 non-null   int64  \n",
      " 2   Group_Label            2039 non-null   object \n",
      " 3   Gender                 588 non-null    object \n",
      " 4   Weight_admit           572 non-null    float64\n",
      " 5   Height                 239 non-null    float64\n",
      " 6   First_hospitalization  2039 non-null   int64  \n",
      " 7   Time_of_death_months   2039 non-null   float64\n",
      " 8   Death_event            2039 non-null   int64  \n",
      "dtypes: float64(3), int64(4), object(2)\n",
      "memory usage: 143.5+ KB\n"
     ]
    },
    {
     "data": {
      "text/plain": [
       "(   Subject_id   Hadm_id Group_Label Gender  Weight_admit  Height  \\\n",
       " 0    17618653  25626055      DVT-PE    NaN           NaN     NaN   \n",
       " 1    12486000  21105236         IPE    NaN           NaN     NaN   \n",
       " 2    12208701  20368865      DVT-PE    NaN           NaN     NaN   \n",
       " 3    17650347  28346420      DVT-PE    NaN           NaN     NaN   \n",
       " 4    15566220  22593658         IPE    NaN           NaN     NaN   \n",
       " \n",
       "    First_hospitalization  Time_of_death_months  Death_event  \n",
       " 0                      0              0.131406            1  \n",
       " 1                      0              5.026281            0  \n",
       " 2                      1              5.026281            0  \n",
       " 3                      1              5.026281            0  \n",
       " 4                      1              5.026281            0  ,\n",
       " None,\n",
       "          Subject_id       Hadm_id  Weight_admit      Height  \\\n",
       " count  2.039000e+03  2.039000e+03    572.000000  239.000000   \n",
       " mean   1.501044e+07  2.495140e+07     91.469580  170.907950   \n",
       " std    2.893084e+06  2.902799e+06     40.853953   11.559124   \n",
       " min    1.000140e+07  2.000163e+07     28.200000  145.000000   \n",
       " 25%    1.253978e+07  2.239110e+07     71.075000  163.000000   \n",
       " 50%    1.505854e+07  2.492102e+07     85.600000  170.000000   \n",
       " 75%    1.756550e+07  2.746334e+07    102.700000  180.000000   \n",
       " max    1.999758e+07  2.999448e+07    769.700000  201.000000   \n",
       " \n",
       "        First_hospitalization  Time_of_death_months  Death_event  \n",
       " count            2039.000000           2039.000000  2039.000000  \n",
       " mean                0.497793              8.074705     0.290829  \n",
       " std                 0.500118             14.062317     0.454256  \n",
       " min                 0.000000             -0.032852     0.000000  \n",
       " 25%                 0.000000              5.026281     0.000000  \n",
       " 50%                 0.000000              5.026281     0.000000  \n",
       " 75%                 1.000000              5.026281     1.000000  \n",
       " max                 1.000000            138.370565     1.000000  )"
      ]
     },
     "execution_count": 7,
     "metadata": {},
     "output_type": "execute_result"
    }
   ],
   "execution_count": 7
  },
  {
   "metadata": {
    "ExecuteTime": {
     "end_time": "2024-05-01T15:57:28.953900Z",
     "start_time": "2024-05-01T15:57:28.186324Z"
    }
   },
   "cell_type": "code",
   "source": [
    "import pymc3 as pm\n",
    "import numpy as np\n",
    "\n",
    "# Data preprocessing\n",
    "# Handle categorical data for Gender (binary encoding: Male=0, Female=1)\n",
    "data['Gender_encoded'] = data['Gender'].map({'M': 0, 'F': 1})\n",
    "\n",
    "# Dropping the original Gender column for simplicity in modeling\n",
    "data.drop('Gender', axis=1, inplace=True)\n",
    "\n",
    "# Fill NA values for modeling (temporary fill for initial setup)\n",
    "data['Weight_admit'].fillna(data['Weight_admit'].mean(), inplace=True)\n",
    "data['Height'].fillna(data['Height'].mean(), inplace=True)\n",
    "\n",
    "# Setting up the Bayesian Model for Gender imputation\n",
    "with pm.Model() as model:\n",
    "    # Priors for the mean and standard deviation of weights and heights\n",
    "    weight_mean = pm.Normal('weight_mean', mu=data['Weight_admit'].mean(), sigma=20)\n",
    "    height_mean = pm.Normal('height_mean', mu=data['Height'].mean(), sigma=10)\n",
    "\n",
    "    # Priors for weight and height given gender\n",
    "    weight_sd = pm.HalfNormal('weight_sd', sigma=10)\n",
    "    height_sd = pm.HalfNormal('height_sd', sigma=5)\n",
    "\n",
    "    # Gender model: P(Gender | Weight, Height)\n",
    "    gender_p = pm.math.invlogit(weight_mean + height_mean)\n",
    "    gender = pm.Bernoulli('gender', p=gender_p, observed=data['Gender_encoded'])\n",
    "\n",
    "    # Likelihoods for weight and height\n",
    "    weight = pm.Normal('weight', mu=weight_mean, sigma=weight_sd, observed=data['Weight_admit'])\n",
    "    height = pm.Normal('height', mu=height_mean, sigma=height_sd, observed=data['Height'])\n",
    "\n",
    "    # Prior for Gender based on weights and heights (model to impute missing genders)\n",
    "    trace = pm.sample(500, return_inferencedata=False)\n",
    "\n",
    "# Checking the output from the model\n",
    "trace_summary = pm.summary(trace)\n",
    "trace_summary\n"
   ],
   "id": "1dc560edf34a52b6",
   "outputs": [
    {
     "ename": "ImportError",
     "evalue": "cannot import name 'local_bitwidth' from 'theano.configdefaults' (C:\\Users\\ZhouNan\\anaconda3\\envs\\NN\\Lib\\site-packages\\theano\\configdefaults.py)",
     "output_type": "error",
     "traceback": [
      "\u001B[1;31m---------------------------------------------------------------------------\u001B[0m",
      "\u001B[1;31mImportError\u001B[0m                               Traceback (most recent call last)",
      "Cell \u001B[1;32mIn[11], line 1\u001B[0m\n\u001B[1;32m----> 1\u001B[0m \u001B[38;5;28;01mimport\u001B[39;00m \u001B[38;5;21;01mpymc3\u001B[39;00m \u001B[38;5;28;01mas\u001B[39;00m \u001B[38;5;21;01mpm\u001B[39;00m\n\u001B[0;32m      2\u001B[0m \u001B[38;5;28;01mimport\u001B[39;00m \u001B[38;5;21;01mnumpy\u001B[39;00m \u001B[38;5;28;01mas\u001B[39;00m \u001B[38;5;21;01mnp\u001B[39;00m\n\u001B[0;32m      4\u001B[0m \u001B[38;5;66;03m# Data preprocessing\u001B[39;00m\n\u001B[0;32m      5\u001B[0m \u001B[38;5;66;03m# Handle categorical data for Gender (binary encoding: Male=0, Female=1)\u001B[39;00m\n",
      "File \u001B[1;32m~\\anaconda3\\envs\\NN\\Lib\\site-packages\\pymc3\\__init__.py:23\u001B[0m\n\u001B[0;32m     20\u001B[0m \u001B[38;5;28;01mimport\u001B[39;00m \u001B[38;5;21;01mplatform\u001B[39;00m\n\u001B[0;32m     22\u001B[0m \u001B[38;5;28;01mimport\u001B[39;00m \u001B[38;5;21;01msemver\u001B[39;00m\n\u001B[1;32m---> 23\u001B[0m \u001B[38;5;28;01mimport\u001B[39;00m \u001B[38;5;21;01mtheano\u001B[39;00m\n\u001B[0;32m     25\u001B[0m _log \u001B[38;5;241m=\u001B[39m logging\u001B[38;5;241m.\u001B[39mgetLogger(\u001B[38;5;124m\"\u001B[39m\u001B[38;5;124mpymc3\u001B[39m\u001B[38;5;124m\"\u001B[39m)\n\u001B[0;32m     27\u001B[0m \u001B[38;5;28;01mif\u001B[39;00m \u001B[38;5;129;01mnot\u001B[39;00m logging\u001B[38;5;241m.\u001B[39mroot\u001B[38;5;241m.\u001B[39mhandlers:\n",
      "File \u001B[1;32m~\\anaconda3\\envs\\NN\\Lib\\site-packages\\theano\\__init__.py:99\u001B[0m\n\u001B[0;32m     97\u001B[0m \u001B[38;5;28;01mfrom\u001B[39;00m \u001B[38;5;21;01mtheano\u001B[39;00m\u001B[38;5;21;01m.\u001B[39;00m\u001B[38;5;21;01mgradient\u001B[39;00m \u001B[38;5;28;01mimport\u001B[39;00m Lop, Rop, grad, subgraph_grad\n\u001B[0;32m     98\u001B[0m \u001B[38;5;28;01mfrom\u001B[39;00m \u001B[38;5;21;01mtheano\u001B[39;00m\u001B[38;5;21;01m.\u001B[39;00m\u001B[38;5;21;01mprinting\u001B[39;00m \u001B[38;5;28;01mimport\u001B[39;00m pp, pprint\n\u001B[1;32m---> 99\u001B[0m \u001B[38;5;28;01mfrom\u001B[39;00m \u001B[38;5;21;01mtheano\u001B[39;00m\u001B[38;5;21;01m.\u001B[39;00m\u001B[38;5;21;01mupdates\u001B[39;00m \u001B[38;5;28;01mimport\u001B[39;00m OrderedUpdates\n\u001B[0;32m    102\u001B[0m \u001B[38;5;28;01mif\u001B[39;00m (\n\u001B[0;32m    103\u001B[0m     config\u001B[38;5;241m.\u001B[39mdevice\u001B[38;5;241m.\u001B[39mstartswith(\u001B[38;5;124m\"\u001B[39m\u001B[38;5;124mcuda\u001B[39m\u001B[38;5;124m\"\u001B[39m)\n\u001B[0;32m    104\u001B[0m     \u001B[38;5;129;01mor\u001B[39;00m config\u001B[38;5;241m.\u001B[39mdevice\u001B[38;5;241m.\u001B[39mstartswith(\u001B[38;5;124m\"\u001B[39m\u001B[38;5;124mopencl\u001B[39m\u001B[38;5;124m\"\u001B[39m)\n\u001B[1;32m   (...)\u001B[0m\n\u001B[0;32m    107\u001B[0m     \u001B[38;5;129;01mor\u001B[39;00m config\u001B[38;5;241m.\u001B[39mcontexts \u001B[38;5;241m!=\u001B[39m \u001B[38;5;124m\"\u001B[39m\u001B[38;5;124m\"\u001B[39m\n\u001B[0;32m    108\u001B[0m ):\n\u001B[0;32m    109\u001B[0m     \u001B[38;5;28;01mimport\u001B[39;00m \u001B[38;5;21;01mtheano\u001B[39;00m\u001B[38;5;21;01m.\u001B[39;00m\u001B[38;5;21;01mgpuarray\u001B[39;00m\n",
      "File \u001B[1;32m~\\anaconda3\\envs\\NN\\Lib\\site-packages\\theano\\gof\\__init__.py:40\u001B[0m\n\u001B[0;32m      1\u001B[0m \u001B[38;5;124;03m\"\"\"\u001B[39;00m\n\u001B[0;32m      2\u001B[0m \u001B[38;5;124;03mgof.py\u001B[39;00m\n\u001B[0;32m      3\u001B[0m \n\u001B[1;32m   (...)\u001B[0m\n\u001B[0;32m     36\u001B[0m \n\u001B[0;32m     37\u001B[0m \u001B[38;5;124;03m\"\"\"\u001B[39;00m\n\u001B[0;32m     38\u001B[0m \u001B[38;5;28;01mfrom\u001B[39;00m \u001B[38;5;21;01m__future__\u001B[39;00m \u001B[38;5;28;01mimport\u001B[39;00m absolute_import, print_function, division\n\u001B[1;32m---> 40\u001B[0m \u001B[38;5;28;01mfrom\u001B[39;00m \u001B[38;5;21;01mtheano\u001B[39;00m\u001B[38;5;21;01m.\u001B[39;00m\u001B[38;5;21;01mgof\u001B[39;00m\u001B[38;5;21;01m.\u001B[39;00m\u001B[38;5;21;01mcc\u001B[39;00m \u001B[38;5;28;01mimport\u001B[39;00m \\\n\u001B[0;32m     41\u001B[0m     CLinker, OpWiseCLinker, DualLinker, HideC\n\u001B[0;32m     43\u001B[0m \u001B[38;5;28;01mfrom\u001B[39;00m \u001B[38;5;21;01mtheano\u001B[39;00m\u001B[38;5;21;01m.\u001B[39;00m\u001B[38;5;21;01mgof\u001B[39;00m\u001B[38;5;21;01m.\u001B[39;00m\u001B[38;5;21;01mfg\u001B[39;00m \u001B[38;5;28;01mimport\u001B[39;00m \\\n\u001B[0;32m     44\u001B[0m     CachedConstantError, InconsistencyError, MissingInputError, FunctionGraph\n\u001B[0;32m     46\u001B[0m \u001B[38;5;28;01mfrom\u001B[39;00m \u001B[38;5;21;01mtheano\u001B[39;00m\u001B[38;5;21;01m.\u001B[39;00m\u001B[38;5;21;01mgof\u001B[39;00m\u001B[38;5;21;01m.\u001B[39;00m\u001B[38;5;21;01mdestroyhandler\u001B[39;00m \u001B[38;5;28;01mimport\u001B[39;00m \\\n\u001B[0;32m     47\u001B[0m     DestroyHandler\n",
      "File \u001B[1;32m~\\anaconda3\\envs\\NN\\Lib\\site-packages\\theano\\gof\\cc.py:25\u001B[0m\n\u001B[0;32m     23\u001B[0m \u001B[38;5;66;03m# gof imports\u001B[39;00m\n\u001B[0;32m     24\u001B[0m \u001B[38;5;28;01mfrom\u001B[39;00m \u001B[38;5;21;01mtheano\u001B[39;00m\u001B[38;5;21;01m.\u001B[39;00m\u001B[38;5;21;01mgof\u001B[39;00m \u001B[38;5;28;01mimport\u001B[39;00m graph\n\u001B[1;32m---> 25\u001B[0m \u001B[38;5;28;01mfrom\u001B[39;00m \u001B[38;5;21;01mtheano\u001B[39;00m\u001B[38;5;21;01m.\u001B[39;00m\u001B[38;5;21;01mgof\u001B[39;00m \u001B[38;5;28;01mimport\u001B[39;00m link\n\u001B[0;32m     26\u001B[0m \u001B[38;5;28;01mfrom\u001B[39;00m \u001B[38;5;21;01mtheano\u001B[39;00m\u001B[38;5;21;01m.\u001B[39;00m\u001B[38;5;21;01mgof\u001B[39;00m \u001B[38;5;28;01mimport\u001B[39;00m utils\n\u001B[0;32m     27\u001B[0m \u001B[38;5;28;01mfrom\u001B[39;00m \u001B[38;5;21;01mtheano\u001B[39;00m\u001B[38;5;21;01m.\u001B[39;00m\u001B[38;5;21;01mgof\u001B[39;00m \u001B[38;5;28;01mimport\u001B[39;00m cmodule\n",
      "File \u001B[1;32m~\\anaconda3\\envs\\NN\\Lib\\site-packages\\theano\\gof\\link.py:18\u001B[0m\n\u001B[0;32m     16\u001B[0m \u001B[38;5;28;01mfrom\u001B[39;00m \u001B[38;5;21;01mtheano\u001B[39;00m\u001B[38;5;21;01m.\u001B[39;00m\u001B[38;5;21;01mgof\u001B[39;00m \u001B[38;5;28;01mimport\u001B[39;00m utils\n\u001B[0;32m     17\u001B[0m \u001B[38;5;28;01mfrom\u001B[39;00m \u001B[38;5;21;01mtheano\u001B[39;00m\u001B[38;5;21;01m.\u001B[39;00m\u001B[38;5;21;01mgof\u001B[39;00m \u001B[38;5;28;01mimport\u001B[39;00m graph\n\u001B[1;32m---> 18\u001B[0m \u001B[38;5;28;01mfrom\u001B[39;00m \u001B[38;5;21;01mtheano\u001B[39;00m\u001B[38;5;21;01m.\u001B[39;00m\u001B[38;5;21;01mgof\u001B[39;00m\u001B[38;5;21;01m.\u001B[39;00m\u001B[38;5;21;01mtype\u001B[39;00m \u001B[38;5;28;01mimport\u001B[39;00m Type\n\u001B[0;32m     20\u001B[0m \u001B[38;5;28;01mfrom\u001B[39;00m \u001B[38;5;21;01m.\u001B[39;00m\u001B[38;5;21;01mutils\u001B[39;00m \u001B[38;5;28;01mimport\u001B[39;00m undef\n\u001B[0;32m     22\u001B[0m __excepthook \u001B[38;5;241m=\u001B[39m sys\u001B[38;5;241m.\u001B[39mexcepthook\n",
      "File \u001B[1;32m~\\anaconda3\\envs\\NN\\Lib\\site-packages\\theano\\gof\\type.py:23\u001B[0m\n\u001B[0;32m     18\u001B[0m \u001B[38;5;28;01mfrom\u001B[39;00m \u001B[38;5;21;01mtheano\u001B[39;00m \u001B[38;5;28;01mimport\u001B[39;00m change_flags\n\u001B[0;32m     20\u001B[0m \u001B[38;5;66;03m########\u001B[39;00m\n\u001B[0;32m     21\u001B[0m \u001B[38;5;66;03m# Type #\u001B[39;00m\n\u001B[0;32m     22\u001B[0m \u001B[38;5;66;03m########\u001B[39;00m\n\u001B[1;32m---> 23\u001B[0m \u001B[38;5;28;01mfrom\u001B[39;00m \u001B[38;5;21;01mtheano\u001B[39;00m\u001B[38;5;21;01m.\u001B[39;00m\u001B[38;5;21;01mgof\u001B[39;00m\u001B[38;5;21;01m.\u001B[39;00m\u001B[38;5;21;01mop\u001B[39;00m \u001B[38;5;28;01mimport\u001B[39;00m CLinkerObject, Op\n\u001B[0;32m     25\u001B[0m __docformat__ \u001B[38;5;241m=\u001B[39m \u001B[38;5;124m\"\u001B[39m\u001B[38;5;124mrestructuredtext en\u001B[39m\u001B[38;5;124m\"\u001B[39m\n\u001B[0;32m     28\u001B[0m \u001B[38;5;28;01mclass\u001B[39;00m \u001B[38;5;21;01mCLinkerType\u001B[39;00m(CLinkerObject):\n",
      "File \u001B[1;32m~\\anaconda3\\envs\\NN\\Lib\\site-packages\\theano\\gof\\op.py:25\u001B[0m\n\u001B[0;32m     23\u001B[0m \u001B[38;5;28;01mfrom\u001B[39;00m \u001B[38;5;21;01mtheano\u001B[39;00m\u001B[38;5;21;01m.\u001B[39;00m\u001B[38;5;21;01mgof\u001B[39;00m \u001B[38;5;28;01mimport\u001B[39;00m graph\n\u001B[0;32m     24\u001B[0m \u001B[38;5;28;01mfrom\u001B[39;00m \u001B[38;5;21;01mtheano\u001B[39;00m\u001B[38;5;21;01m.\u001B[39;00m\u001B[38;5;21;01mgof\u001B[39;00m \u001B[38;5;28;01mimport\u001B[39;00m utils\n\u001B[1;32m---> 25\u001B[0m \u001B[38;5;28;01mfrom\u001B[39;00m \u001B[38;5;21;01mtheano\u001B[39;00m\u001B[38;5;21;01m.\u001B[39;00m\u001B[38;5;21;01mgof\u001B[39;00m\u001B[38;5;21;01m.\u001B[39;00m\u001B[38;5;21;01mcmodule\u001B[39;00m \u001B[38;5;28;01mimport\u001B[39;00m GCC_compiler\n\u001B[0;32m     26\u001B[0m \u001B[38;5;28;01mfrom\u001B[39;00m \u001B[38;5;21;01mtheano\u001B[39;00m\u001B[38;5;21;01m.\u001B[39;00m\u001B[38;5;21;01mgof\u001B[39;00m\u001B[38;5;21;01m.\u001B[39;00m\u001B[38;5;21;01mfg\u001B[39;00m \u001B[38;5;28;01mimport\u001B[39;00m FunctionGraph\n\u001B[0;32m     28\u001B[0m __authors__ \u001B[38;5;241m=\u001B[39m \u001B[38;5;124m\"\u001B[39m\u001B[38;5;124mtheano-dev\u001B[39m\u001B[38;5;124m\"\u001B[39m\n",
      "File \u001B[1;32m~\\anaconda3\\envs\\NN\\Lib\\site-packages\\theano\\gof\\cmodule.py:37\u001B[0m\n\u001B[0;32m     35\u001B[0m \u001B[38;5;66;03m# we will abuse the lockfile mechanism when reading and writing the registry\u001B[39;00m\n\u001B[0;32m     36\u001B[0m \u001B[38;5;28;01mfrom\u001B[39;00m \u001B[38;5;21;01mtheano\u001B[39;00m\u001B[38;5;21;01m.\u001B[39;00m\u001B[38;5;21;01mgof\u001B[39;00m \u001B[38;5;28;01mimport\u001B[39;00m compilelock\n\u001B[1;32m---> 37\u001B[0m \u001B[38;5;28;01mfrom\u001B[39;00m \u001B[38;5;21;01mtheano\u001B[39;00m\u001B[38;5;21;01m.\u001B[39;00m\u001B[38;5;21;01mconfigdefaults\u001B[39;00m \u001B[38;5;28;01mimport\u001B[39;00m gcc_version_str, local_bitwidth\n\u001B[0;32m     39\u001B[0m importlib \u001B[38;5;241m=\u001B[39m \u001B[38;5;28;01mNone\u001B[39;00m\n\u001B[0;32m     40\u001B[0m \u001B[38;5;28;01mtry\u001B[39;00m:\n",
      "\u001B[1;31mImportError\u001B[0m: cannot import name 'local_bitwidth' from 'theano.configdefaults' (C:\\Users\\ZhouNan\\anaconda3\\envs\\NN\\Lib\\site-packages\\theano\\configdefaults.py)"
     ]
    }
   ],
   "execution_count": 11
  },
  {
   "metadata": {},
   "cell_type": "code",
   "outputs": [],
   "execution_count": null,
   "source": "",
   "id": "270e29f63e329576"
  }
 ],
 "metadata": {
  "kernelspec": {
   "display_name": "Python 3",
   "language": "python",
   "name": "python3"
  },
  "language_info": {
   "codemirror_mode": {
    "name": "ipython",
    "version": 2
   },
   "file_extension": ".py",
   "mimetype": "text/x-python",
   "name": "python",
   "nbconvert_exporter": "python",
   "pygments_lexer": "ipython2",
   "version": "2.7.6"
  }
 },
 "nbformat": 4,
 "nbformat_minor": 5
}
