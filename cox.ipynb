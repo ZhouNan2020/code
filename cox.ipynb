{
 "cells": [
  {
   "cell_type": "code",
   "id": "initial_id",
   "metadata": {
    "collapsed": true,
    "ExecuteTime": {
     "end_time": "2024-04-25T13:06:15.698321Z",
     "start_time": "2024-04-25T13:06:15.692278Z"
    }
   },
   "source": [
    "import numpy as np\n",
    "import matplotlib.pyplot as plt\n",
    "import pandas as pd"
   ],
   "outputs": [],
   "execution_count": 7
  },
  {
   "metadata": {
    "ExecuteTime": {
     "end_time": "2024-04-25T13:06:16.266157Z",
     "start_time": "2024-04-25T13:06:16.222098Z"
    }
   },
   "cell_type": "code",
   "source": [
    "# 读取数据C:\\MyProject\\MIMIC-IPE\\data\\icu_data.csv\n",
    "data = pd.read_csv('C:/MyProject/MIMIC-IPE/data/icu_data.csv')\n",
    "# 获取data中的所有列名、列中空值计数和列中空值占比，形成一个新的DataFrame\n",
    "data_info = pd.DataFrame(data.columns, columns=['column_name'])\n",
    "data_info['missing_count'] = data.isnull().sum().values\n",
    "# 将空值占比转换为百分数形式\n",
    "data_info['missing_rate'] = (data.isnull().sum().values / data.shape[0] * 100).round(2)"
   ],
   "id": "7039360a482acef8",
   "outputs": [],
   "execution_count": 8
  },
  {
   "metadata": {
    "ExecuteTime": {
     "end_time": "2024-04-25T13:06:16.959038Z",
     "start_time": "2024-04-25T13:06:16.929613Z"
    }
   },
   "cell_type": "code",
   "source": [
    "# 删除data中所有列名最后两位字符串为“_1”的列\n",
    "data = data.drop(data.columns[data.columns.str.endswith('_1')], axis=1)\n",
    "# 删除data中所有列名最后两位字符串为“_2”的列\n",
    "data = data.drop(data.columns[data.columns.str.endswith('_2')], axis=1)\n",
    "# 设置subject_id、hadm_id和stay_id为索引\n",
    "data = data.set_index(['subject_id'])\n",
    "'''\n",
    "删除以下列：\n",
    "hadm_id\n",
    "stay_id\n",
    "blood_count_hematocrit\n",
    "blood_count_hemoglobin\n",
    "blood_count_mch\n",
    "blood_count_mchc\n",
    "blood_count_mcv\n",
    "blood_count_platelet\n",
    "blood_count_rbc\n",
    "blood_count_rdw\n",
    "blood_count_wbc\n",
    "coagulation_ptt\n",
    "'''\n",
    "data = data.drop(['hadm_id', 'stay_id', 'blood_count_hematocrit', 'blood_count_hemoglobin', 'blood_count_mch',\n",
    "                  'blood_count_mchc', 'blood_count_mcv', 'blood_count_platelet', 'blood_count_rbc',\n",
    "                  'blood_count_rdw', 'blood_count_wbc', 'coagulation_ptt'], axis=1)\n",
    "'''删除以下列：\n",
    "hospstay_seq\n",
    "first_hosp_stay\n",
    "icustay_seq\n",
    "first_icu_stay\n",
    "icd_code\n",
    "icd_version\n",
    "\n",
    "dischtime\n",
    "icu_intime\n",
    "avg_los\n",
    "'''\n",
    "data = data.drop(['hospstay_seq', 'first_hosp_stay', 'icustay_seq', 'first_icu_stay', 'icd_code', 'icd_version',\n",
    "                  'dischtime', 'icu_intime', 'avg_los'], axis=1)\n",
    "'''提取以下几列，以下几列是待比较的值，形成一个新的dataframe：\n",
    "hospital_expire_flag\n",
    "re_inhosp\n",
    "icu_count\n",
    "14-days\n",
    "31-days\n",
    "los_icu\n",
    "'''\n",
    "data_compare = data[['hospital_expire_flag', 're_inhosp', 'icu_count', '14-days', '31-days', 'los_icu']]\n",
    "# 从data中删除以上列\n",
    "data = data.drop(['hospital_expire_flag', 're_inhosp', 'icu_count', '14-days', '31-days', 'los_icu'], axis=1)\n",
    "\n",
    "\n",
    "# data中的gender列使用labelencoder进行编码\n",
    "from sklearn.preprocessing import LabelEncoder\n",
    "# Instantiate the LabelEncoder\n",
    "labelencoder = LabelEncoder()\n",
    "# Fit and transform the 'gender' column in 'X'\n",
    "data['gender'] = labelencoder.fit_transform(data['gender'])\n",
    "# data中的Group_label列使用labelencoder进行编码\n",
    "# Fit and transform the 'Group_label' column in 'X'\n",
    "data['Group_Label'] = labelencoder.fit_transform(data['Group_Label'])\n",
    "# X中的race列使用one-hot编码，然后再将原race列删除，再把one-hot编码后的列加入X\n",
    "# Perform one-hot encoding on the 'race' column\n",
    "race_dummies = pd.get_dummies(data['race'], prefix='race')\n",
    "# Drop the original 'race' column from 'data'\n",
    "data = data.drop('race', axis=1)\n",
    "# Concatenate 'data' with the one-hot encoded DataFrame\n",
    "data = pd.concat([data, race_dummies], axis=1)\n"
   ],
   "id": "3dccefc2676c0c5d",
   "outputs": [],
   "execution_count": 9
  },
  {
   "metadata": {
    "ExecuteTime": {
     "end_time": "2024-04-25T13:06:21.131059Z",
     "start_time": "2024-04-25T13:06:21.101744Z"
    }
   },
   "cell_type": "code",
   "source": [
    "# 将日期数据转换为日期时间格式\n",
    "data['dod'] = pd.to_datetime(data['dod'])\n",
    "data['admittime'] = pd.to_datetime(data['admittime'])\n",
    "\n",
    "# 计算观察期内的天数，限制为最多7天\n",
    "data['observation_days'] = (data['dod'] - data['admittime']).dt.days\n",
    "data['observation_days'] = data['observation_days'].clip(upper=7)\n",
    "\n",
    "# 创建事件状态列\n",
    "# 如果死亡日期存在，并且死亡日期与入院日期的差值小于等于7天，认为事件发生\n",
    "data['event_status'] = np.where((data['dod'].notnull()) & (data['observation_days'] <= 7), 1, 0)\n",
    "\n",
    "# 删除不再需要的列\n",
    "data = data.drop('admittime', axis=1)"
   ],
   "id": "7a81145f87d77b3e",
   "outputs": [],
   "execution_count": 10
  },
  {
   "metadata": {
    "ExecuteTime": {
     "end_time": "2024-04-25T13:06:24.006440Z",
     "start_time": "2024-04-25T13:06:23.990237Z"
    }
   },
   "cell_type": "code",
   "source": [
    "\n",
    "# 删除data中缺失值超过10%的列\n",
    "data = data.drop(data_info[data_info['missing_rate'] > 10]['column_name'], axis=1)\n",
    "# 获取data中的所有列名、列中空值计数和列中空值占比，形成一个新的DataFrame\n",
    "data_info = pd.DataFrame(data.columns, columns=['column_name'])\n",
    "data_info['missing_count'] = data.isnull().sum().values\n",
    "# 将空值占比转换为百分数形式\n",
    "data_info['missing_rate'] = (data.isnull().sum().values / data.shape[0] * 100).round(2)"
   ],
   "id": "e2d81d32d4f873f0",
   "outputs": [],
   "execution_count": 11
  },
  {
   "metadata": {
    "ExecuteTime": {
     "end_time": "2024-04-25T13:06:24.675057Z",
     "start_time": "2024-04-25T13:06:24.618934Z"
    }
   },
   "cell_type": "code",
   "source": [
    "# 将data保存到C:\\MyProject\\MIMIC-IPE\\data\\full_dataforcox.csv\n",
    "data.to_csv('C:/MyProject/MIMIC-IPE/data/icu_dataforcox.csv')"
   ],
   "id": "30952c7faa3b0831",
   "outputs": [],
   "execution_count": 12
  },
  {
   "metadata": {
    "ExecuteTime": {
     "end_time": "2024-04-24T07:52:30.886600Z",
     "start_time": "2024-04-24T07:52:30.862900Z"
    }
   },
   "cell_type": "code",
   "source": [
    "# 使用均值填充data中所有的缺失值\n",
    "data = data.fillna(data.mean())"
   ],
   "id": "143fcadafbc79c7a",
   "outputs": [],
   "execution_count": 58
  },
  {
   "metadata": {
    "ExecuteTime": {
     "end_time": "2024-04-24T07:52:31.579886Z",
     "start_time": "2024-04-24T07:52:31.346506Z"
    }
   },
   "cell_type": "code",
   "source": [
    "# data中event_status列为事件列，death_day列为时间列，其余列为特征列，Group_Label为分组列，对data进行Kaplan-Meier生存曲线分析，使用log-rank检验，并且画出生存曲线\n",
    "from lifelines import KaplanMeierFitter\n",
    "from lifelines.statistics import logrank_test\n",
    "\n",
    "# Initialize the KaplanMeierFitter class\n",
    "kmf = KaplanMeierFitter()\n",
    "\n",
    "# Get the unique groups\n",
    "groups = data['Group_Label'].unique()\n",
    "\n",
    "# Perform Kaplan-Meier survival analysis for each group and plot the survival curve\n",
    "for group in groups:\n",
    "    group_data = data[data['Group_Label'] == group]\n",
    "    kmf.fit(group_data['death_day'], group_data['event_status'], label=str(group))\n",
    "    kmf.plot()\n",
    "\n",
    "# Perform log-rank test between each pair of groups\n",
    "for i in range(len(groups)):\n",
    "    for j in range(i+1, len(groups)):\n",
    "        group_i_data = data[data['Group_Label'] == groups[i]]\n",
    "        group_j_data = data[data['Group_Label'] == groups[j]]\n",
    "        results = logrank_test(group_i_data['death_day'], group_j_data['death_day'],\n",
    "                               event_observed_A=group_i_data['event_status'], event_observed_B=group_j_data['event_status'])\n",
    "        print(f'Log-rank test between group {groups[i]} and group {groups[j]}: p={results.p_value}')\n"
   ],
   "id": "6d7071d5b8d9429e",
   "outputs": [
    {
     "name": "stdout",
     "output_type": "stream",
     "text": [
      "Log-rank test between group 1 and group 0: p=0.0062698794658998585\n"
     ]
    },
    {
     "data": {
      "text/plain": [
       "<Figure size 640x480 with 1 Axes>"
      ],
      "image/png": "[encoded data removed]"
     },
     "metadata": {},
     "output_type": "display_data"
    }
   ],
   "execution_count": 59
  },
  {
   "metadata": {
    "ExecuteTime": {
     "end_time": "2024-04-24T07:26:32.299462Z",
     "start_time": "2024-04-24T07:26:32.251072Z"
    }
   },
   "cell_type": "code",
   "source": [
    "import pandas as pd\n",
    "from sksurv.linear_model import CoxnetSurvivalAnalysis\n",
    "from sksurv.util import Surv\n",
    "\n",
    "# 假设data已经加载，并且所有类别变量已经转换为数值型（one-hot编码等）\n",
    "X = data.drop(columns=['7-days', 'death_time'])\n",
    "y = data[['7-days', 'death_time']]\n",
    "\n",
    "# 创建生存数据的结构\n",
    "y_structured = Surv.from_dataframe(event='7-days', time='death_time', data=y)\n",
    "\n",
    "# 设置Elastic Net模型\n",
    "model = CoxnetSurvivalAnalysis(l1_ratio=0.5, alpha_min_ratio=0.01, max_iter=100000)\n",
    "\n",
    "# 训练模型\n",
    "model.fit(X, y_structured)\n",
    "\n",
    "# 提取特征的系数\n",
    "coefficients = model.coef_\n",
    "\n",
    "# 对特征按重要性排序，并选择前15个\n",
    "important_features = pd.DataFrame(coefficients.T, index=X.columns, columns=['Coefficients'])\n",
    "top_features = important_features.abs().sort_values(by='Coefficients', ascending=False).head(15)\n",
    "print(\"Top 15 selected features based on Elastic Net:\")\n",
    "print(top_features)\n"
   ],
   "id": "dade777d08452ffe",
   "outputs": [
    {
     "ename": "ValueError",
     "evalue": "event indicator must be binary",
     "output_type": "error",
     "traceback": [
      "\u001B[1;31m---------------------------------------------------------------------------\u001B[0m",
      "\u001B[1;31mValueError\u001B[0m                                Traceback (most recent call last)",
      "Cell \u001B[1;32mIn[43], line 10\u001B[0m\n\u001B[0;32m      7\u001B[0m y \u001B[38;5;241m=\u001B[39m data[[\u001B[38;5;124m'\u001B[39m\u001B[38;5;124m7-days\u001B[39m\u001B[38;5;124m'\u001B[39m, \u001B[38;5;124m'\u001B[39m\u001B[38;5;124mdeath_time\u001B[39m\u001B[38;5;124m'\u001B[39m]]\n\u001B[0;32m      9\u001B[0m \u001B[38;5;66;03m# 创建生存数据的结构\u001B[39;00m\n\u001B[1;32m---> 10\u001B[0m y_structured \u001B[38;5;241m=\u001B[39m Surv\u001B[38;5;241m.\u001B[39mfrom_dataframe(event\u001B[38;5;241m=\u001B[39m\u001B[38;5;124m'\u001B[39m\u001B[38;5;124m7-days\u001B[39m\u001B[38;5;124m'\u001B[39m, time\u001B[38;5;241m=\u001B[39m\u001B[38;5;124m'\u001B[39m\u001B[38;5;124mdeath_time\u001B[39m\u001B[38;5;124m'\u001B[39m, data\u001B[38;5;241m=\u001B[39my)\n\u001B[0;32m     12\u001B[0m \u001B[38;5;66;03m# 设置Elastic Net模型\u001B[39;00m\n\u001B[0;32m     13\u001B[0m model \u001B[38;5;241m=\u001B[39m CoxnetSurvivalAnalysis(l1_ratio\u001B[38;5;241m=\u001B[39m\u001B[38;5;241m0.5\u001B[39m, alpha_min_ratio\u001B[38;5;241m=\u001B[39m\u001B[38;5;241m0.01\u001B[39m, max_iter\u001B[38;5;241m=\u001B[39m\u001B[38;5;241m100000\u001B[39m)\n",
      "File \u001B[1;32m~\\anaconda3\\envs\\NN\\Lib\\site-packages\\sksurv\\util.py:94\u001B[0m, in \u001B[0;36mSurv.from_dataframe\u001B[1;34m(event, time, data)\u001B[0m\n\u001B[0;32m     91\u001B[0m \u001B[38;5;28;01mif\u001B[39;00m \u001B[38;5;129;01mnot\u001B[39;00m \u001B[38;5;28misinstance\u001B[39m(data, pd\u001B[38;5;241m.\u001B[39mDataFrame):\n\u001B[0;32m     92\u001B[0m     \u001B[38;5;28;01mraise\u001B[39;00m \u001B[38;5;167;01mTypeError\u001B[39;00m(\u001B[38;5;124mf\u001B[39m\u001B[38;5;124m\"\u001B[39m\u001B[38;5;124mexpected pandas.DataFrame, but got \u001B[39m\u001B[38;5;132;01m{\u001B[39;00m\u001B[38;5;28mtype\u001B[39m(data)\u001B[38;5;132;01m!r}\u001B[39;00m\u001B[38;5;124m\"\u001B[39m)\n\u001B[1;32m---> 94\u001B[0m \u001B[38;5;28;01mreturn\u001B[39;00m Surv\u001B[38;5;241m.\u001B[39mfrom_arrays(\n\u001B[0;32m     95\u001B[0m     data\u001B[38;5;241m.\u001B[39mloc[:, event]\u001B[38;5;241m.\u001B[39mvalues, data\u001B[38;5;241m.\u001B[39mloc[:, time]\u001B[38;5;241m.\u001B[39mvalues, name_event\u001B[38;5;241m=\u001B[39m\u001B[38;5;28mstr\u001B[39m(event), name_time\u001B[38;5;241m=\u001B[39m\u001B[38;5;28mstr\u001B[39m(time)\n\u001B[0;32m     96\u001B[0m )\n",
      "File \u001B[1;32m~\\anaconda3\\envs\\NN\\Lib\\site-packages\\sksurv\\util.py:64\u001B[0m, in \u001B[0;36mSurv.from_arrays\u001B[1;34m(event, time, name_event, name_time)\u001B[0m\n\u001B[0;32m     62\u001B[0m events\u001B[38;5;241m.\u001B[39msort()\n\u001B[0;32m     63\u001B[0m \u001B[38;5;28;01mif\u001B[39;00m \u001B[38;5;28mlen\u001B[39m(events) \u001B[38;5;241m!=\u001B[39m \u001B[38;5;241m2\u001B[39m:\n\u001B[1;32m---> 64\u001B[0m     \u001B[38;5;28;01mraise\u001B[39;00m \u001B[38;5;167;01mValueError\u001B[39;00m(\u001B[38;5;124m\"\u001B[39m\u001B[38;5;124mevent indicator must be binary\u001B[39m\u001B[38;5;124m\"\u001B[39m)\n\u001B[0;32m     66\u001B[0m \u001B[38;5;28;01mif\u001B[39;00m np\u001B[38;5;241m.\u001B[39mall(events \u001B[38;5;241m==\u001B[39m np\u001B[38;5;241m.\u001B[39marray([\u001B[38;5;241m0\u001B[39m, \u001B[38;5;241m1\u001B[39m], dtype\u001B[38;5;241m=\u001B[39mevents\u001B[38;5;241m.\u001B[39mdtype)):\n\u001B[0;32m     67\u001B[0m     y[name_event] \u001B[38;5;241m=\u001B[39m event\u001B[38;5;241m.\u001B[39mastype(\u001B[38;5;28mbool\u001B[39m)\n",
      "\u001B[1;31mValueError\u001B[0m: event indicator must be binary"
     ]
    }
   ],
   "execution_count": 43
  },
  {
   "metadata": {
    "ExecuteTime": {
     "end_time": "2024-04-24T07:27:13.244124Z",
     "start_time": "2024-04-24T07:27:12.952137Z"
    }
   },
   "cell_type": "code",
   "source": [
    "# 对data做cox风险回归，其中7-days列为事件列，death_time列为时间列，其余列为特征列\n",
    "from lifelines import CoxPHFitter\n",
    "\n",
    "# 初始化CoxPHFitter类\n",
    "cph = CoxPHFitter()\n",
    "\n",
    "# 对数据进行Cox风险回归\n",
    "cph.fit(data, duration_col='death_time', event_col='7-days')\n",
    "\n",
    "# 打印摘要\n",
    "cph.print_summary()"
   ],
   "id": "d174b28718a0836c",
   "outputs": [
    {
     "name": "stderr",
     "output_type": "stream",
     "text": [
      "C:\\Users\\ZhouNan\\anaconda3\\envs\\NN\\Lib\\site-packages\\lifelines\\utils\\__init__.py:1100: ConvergenceWarning: Column(s) ['race_AMERICAN INDIAN/ALASKA NATIVE', 'race_BLACK/AFRICAN', 'race_BLACK/CAPE VERDEAN', 'race_HISPANIC/LATINO - COLUMBIAN', 'race_HISPANIC/LATINO - DOMINICAN', 'race_HISPANIC/LATINO - GUATEMALAN', 'race_HISPANIC/LATINO - PUERTO RICAN', 'race_MULTIPLE RACE/ETHNICITY', 'race_PATIENT DECLINED TO ANSWER', 'race_PORTUGUESE', 'race_SOUTH AMERICAN', 'race_UNABLE TO OBTAIN', 'race_WHITE - EASTERN EUROPEAN', 'race_WHITE - OTHER EUROPEAN', 'race_WHITE - RUSSIAN'] have very low variance. This may harm convergence. 1) Are you using formula's? Did you mean to add '-1' to the end. 2) Try dropping this redundant column before fitting if convergence fails.\n",
      "\n",
      "  warnings.warn(dedent(warning_text), ConvergenceWarning)\n",
      "C:\\Users\\ZhouNan\\anaconda3\\envs\\NN\\Lib\\site-packages\\lifelines\\utils\\__init__.py:990: ConvergenceWarning: Your dataset has more variables than samples. Even with a penalizer (which you must use), convergence is not guaranteed.\n",
      "\n",
      "  warnings.warn(warning_text, ConvergenceWarning)\n"
     ]
    },
    {
     "ename": "ConvergenceError",
     "evalue": "delta contains nan value(s). Convergence halted. Please see the following tips in the lifelines documentation: https://lifelines.readthedocs.io/en/latest/Examples.html#problems-with-convergence-in-the-cox-proportional-hazard-model",
     "output_type": "error",
     "traceback": [
      "\u001B[1;31m---------------------------------------------------------------------------\u001B[0m",
      "\u001B[1;31mConvergenceError\u001B[0m                          Traceback (most recent call last)",
      "Cell \u001B[1;32mIn[44], line 8\u001B[0m\n\u001B[0;32m      5\u001B[0m cph \u001B[38;5;241m=\u001B[39m CoxPHFitter()\n\u001B[0;32m      7\u001B[0m \u001B[38;5;66;03m# 对数据进行Cox风险回归\u001B[39;00m\n\u001B[1;32m----> 8\u001B[0m cph\u001B[38;5;241m.\u001B[39mfit(data, duration_col\u001B[38;5;241m=\u001B[39m\u001B[38;5;124m'\u001B[39m\u001B[38;5;124mdeath_time\u001B[39m\u001B[38;5;124m'\u001B[39m, event_col\u001B[38;5;241m=\u001B[39m\u001B[38;5;124m'\u001B[39m\u001B[38;5;124m7-days\u001B[39m\u001B[38;5;124m'\u001B[39m)\n\u001B[0;32m     10\u001B[0m \u001B[38;5;66;03m# 打印摘要\u001B[39;00m\n\u001B[0;32m     11\u001B[0m cph\u001B[38;5;241m.\u001B[39mprint_summary()\n",
      "File \u001B[1;32m~\\anaconda3\\envs\\NN\\Lib\\site-packages\\lifelines\\utils\\__init__.py:56\u001B[0m, in \u001B[0;36mCensoringType.right_censoring.<locals>.f\u001B[1;34m(model, *args, **kwargs)\u001B[0m\n\u001B[0;32m     53\u001B[0m \u001B[38;5;129m@wraps\u001B[39m(function)\n\u001B[0;32m     54\u001B[0m \u001B[38;5;28;01mdef\u001B[39;00m \u001B[38;5;21mf\u001B[39m(model, \u001B[38;5;241m*\u001B[39margs, \u001B[38;5;241m*\u001B[39m\u001B[38;5;241m*\u001B[39mkwargs):\n\u001B[0;32m     55\u001B[0m     \u001B[38;5;28mcls\u001B[39m\u001B[38;5;241m.\u001B[39mset_censoring_type(model, \u001B[38;5;28mcls\u001B[39m\u001B[38;5;241m.\u001B[39mRIGHT)\n\u001B[1;32m---> 56\u001B[0m     \u001B[38;5;28;01mreturn\u001B[39;00m function(model, \u001B[38;5;241m*\u001B[39margs, \u001B[38;5;241m*\u001B[39m\u001B[38;5;241m*\u001B[39mkwargs)\n",
      "File \u001B[1;32m~\\anaconda3\\envs\\NN\\Lib\\site-packages\\lifelines\\fitters\\coxph_fitter.py:290\u001B[0m, in \u001B[0;36mCoxPHFitter.fit\u001B[1;34m(self, df, duration_col, event_col, show_progress, initial_point, strata, weights_col, cluster_col, robust, batch_mode, timeline, formula, entry_col, fit_options)\u001B[0m\n\u001B[0;32m    184\u001B[0m \u001B[38;5;250m\u001B[39m\u001B[38;5;124;03m\"\"\"\u001B[39;00m\n\u001B[0;32m    185\u001B[0m \u001B[38;5;124;03mFit the Cox proportional hazard model to a right-censored dataset. Alias of `fit_right_censoring`.\u001B[39;00m\n\u001B[0;32m    186\u001B[0m \n\u001B[1;32m   (...)\u001B[0m\n\u001B[0;32m    287\u001B[0m \n\u001B[0;32m    288\u001B[0m \u001B[38;5;124;03m\"\"\"\u001B[39;00m\n\u001B[0;32m    289\u001B[0m \u001B[38;5;28mself\u001B[39m\u001B[38;5;241m.\u001B[39mstrata \u001B[38;5;241m=\u001B[39m utils\u001B[38;5;241m.\u001B[39m_to_list_or_singleton(utils\u001B[38;5;241m.\u001B[39mcoalesce(strata, \u001B[38;5;28mself\u001B[39m\u001B[38;5;241m.\u001B[39mstrata))\n\u001B[1;32m--> 290\u001B[0m \u001B[38;5;28mself\u001B[39m\u001B[38;5;241m.\u001B[39m_model \u001B[38;5;241m=\u001B[39m \u001B[38;5;28mself\u001B[39m\u001B[38;5;241m.\u001B[39m_fit_model(\n\u001B[0;32m    291\u001B[0m     df,\n\u001B[0;32m    292\u001B[0m     duration_col,\n\u001B[0;32m    293\u001B[0m     event_col\u001B[38;5;241m=\u001B[39mevent_col,\n\u001B[0;32m    294\u001B[0m     show_progress\u001B[38;5;241m=\u001B[39mshow_progress,\n\u001B[0;32m    295\u001B[0m     initial_point\u001B[38;5;241m=\u001B[39minitial_point,\n\u001B[0;32m    296\u001B[0m     strata\u001B[38;5;241m=\u001B[39m\u001B[38;5;28mself\u001B[39m\u001B[38;5;241m.\u001B[39mstrata,\n\u001B[0;32m    297\u001B[0m     weights_col\u001B[38;5;241m=\u001B[39mweights_col,\n\u001B[0;32m    298\u001B[0m     cluster_col\u001B[38;5;241m=\u001B[39mcluster_col,\n\u001B[0;32m    299\u001B[0m     robust\u001B[38;5;241m=\u001B[39mrobust,\n\u001B[0;32m    300\u001B[0m     batch_mode\u001B[38;5;241m=\u001B[39mbatch_mode,\n\u001B[0;32m    301\u001B[0m     timeline\u001B[38;5;241m=\u001B[39mtimeline,\n\u001B[0;32m    302\u001B[0m     formula\u001B[38;5;241m=\u001B[39mformula,\n\u001B[0;32m    303\u001B[0m     entry_col\u001B[38;5;241m=\u001B[39mentry_col,\n\u001B[0;32m    304\u001B[0m     fit_options\u001B[38;5;241m=\u001B[39mfit_options,\n\u001B[0;32m    305\u001B[0m )\n\u001B[0;32m    306\u001B[0m \u001B[38;5;28;01mreturn\u001B[39;00m \u001B[38;5;28mself\u001B[39m\n",
      "File \u001B[1;32m~\\anaconda3\\envs\\NN\\Lib\\site-packages\\lifelines\\fitters\\coxph_fitter.py:610\u001B[0m, in \u001B[0;36mCoxPHFitter._fit_model\u001B[1;34m(self, *args, **kwargs)\u001B[0m\n\u001B[0;32m    608\u001B[0m \u001B[38;5;28;01mdef\u001B[39;00m \u001B[38;5;21m_fit_model\u001B[39m(\u001B[38;5;28mself\u001B[39m, \u001B[38;5;241m*\u001B[39margs, \u001B[38;5;241m*\u001B[39m\u001B[38;5;241m*\u001B[39mkwargs):\n\u001B[0;32m    609\u001B[0m     \u001B[38;5;28;01mif\u001B[39;00m \u001B[38;5;28mself\u001B[39m\u001B[38;5;241m.\u001B[39mbaseline_estimation_method \u001B[38;5;241m==\u001B[39m \u001B[38;5;124m\"\u001B[39m\u001B[38;5;124mbreslow\u001B[39m\u001B[38;5;124m\"\u001B[39m:\n\u001B[1;32m--> 610\u001B[0m         \u001B[38;5;28;01mreturn\u001B[39;00m \u001B[38;5;28mself\u001B[39m\u001B[38;5;241m.\u001B[39m_fit_model_breslow(\u001B[38;5;241m*\u001B[39margs, \u001B[38;5;241m*\u001B[39m\u001B[38;5;241m*\u001B[39mkwargs)\n\u001B[0;32m    611\u001B[0m     \u001B[38;5;28;01melif\u001B[39;00m \u001B[38;5;28mself\u001B[39m\u001B[38;5;241m.\u001B[39mbaseline_estimation_method \u001B[38;5;241m==\u001B[39m \u001B[38;5;124m\"\u001B[39m\u001B[38;5;124mspline\u001B[39m\u001B[38;5;124m\"\u001B[39m:\n\u001B[0;32m    612\u001B[0m         \u001B[38;5;28;01mreturn\u001B[39;00m \u001B[38;5;28mself\u001B[39m\u001B[38;5;241m.\u001B[39m_fit_model_spline(\u001B[38;5;241m*\u001B[39margs, \u001B[38;5;241m*\u001B[39m\u001B[38;5;241m*\u001B[39mkwargs)\n",
      "File \u001B[1;32m~\\anaconda3\\envs\\NN\\Lib\\site-packages\\lifelines\\fitters\\coxph_fitter.py:623\u001B[0m, in \u001B[0;36mCoxPHFitter._fit_model_breslow\u001B[1;34m(self, *args, **kwargs)\u001B[0m\n\u001B[0;32m    619\u001B[0m model \u001B[38;5;241m=\u001B[39m SemiParametricPHFitter(\n\u001B[0;32m    620\u001B[0m     penalizer\u001B[38;5;241m=\u001B[39m\u001B[38;5;28mself\u001B[39m\u001B[38;5;241m.\u001B[39mpenalizer, l1_ratio\u001B[38;5;241m=\u001B[39m\u001B[38;5;28mself\u001B[39m\u001B[38;5;241m.\u001B[39ml1_ratio, strata\u001B[38;5;241m=\u001B[39m\u001B[38;5;28mself\u001B[39m\u001B[38;5;241m.\u001B[39mstrata, alpha\u001B[38;5;241m=\u001B[39m\u001B[38;5;28mself\u001B[39m\u001B[38;5;241m.\u001B[39malpha, label\u001B[38;5;241m=\u001B[39m\u001B[38;5;28mself\u001B[39m\u001B[38;5;241m.\u001B[39m_label\n\u001B[0;32m    621\u001B[0m )\n\u001B[0;32m    622\u001B[0m \u001B[38;5;28;01mif\u001B[39;00m utils\u001B[38;5;241m.\u001B[39mCensoringType\u001B[38;5;241m.\u001B[39mis_right_censoring(\u001B[38;5;28mself\u001B[39m):\n\u001B[1;32m--> 623\u001B[0m     model\u001B[38;5;241m.\u001B[39mfit(\u001B[38;5;241m*\u001B[39margs, \u001B[38;5;241m*\u001B[39m\u001B[38;5;241m*\u001B[39mkwargs)\n\u001B[0;32m    624\u001B[0m     \u001B[38;5;28;01mreturn\u001B[39;00m model\n\u001B[0;32m    625\u001B[0m \u001B[38;5;28;01melse\u001B[39;00m:\n",
      "File \u001B[1;32m~\\anaconda3\\envs\\NN\\Lib\\site-packages\\lifelines\\utils\\__init__.py:56\u001B[0m, in \u001B[0;36mCensoringType.right_censoring.<locals>.f\u001B[1;34m(model, *args, **kwargs)\u001B[0m\n\u001B[0;32m     53\u001B[0m \u001B[38;5;129m@wraps\u001B[39m(function)\n\u001B[0;32m     54\u001B[0m \u001B[38;5;28;01mdef\u001B[39;00m \u001B[38;5;21mf\u001B[39m(model, \u001B[38;5;241m*\u001B[39margs, \u001B[38;5;241m*\u001B[39m\u001B[38;5;241m*\u001B[39mkwargs):\n\u001B[0;32m     55\u001B[0m     \u001B[38;5;28mcls\u001B[39m\u001B[38;5;241m.\u001B[39mset_censoring_type(model, \u001B[38;5;28mcls\u001B[39m\u001B[38;5;241m.\u001B[39mRIGHT)\n\u001B[1;32m---> 56\u001B[0m     \u001B[38;5;28;01mreturn\u001B[39;00m function(model, \u001B[38;5;241m*\u001B[39margs, \u001B[38;5;241m*\u001B[39m\u001B[38;5;241m*\u001B[39mkwargs)\n",
      "File \u001B[1;32m~\\anaconda3\\envs\\NN\\Lib\\site-packages\\lifelines\\fitters\\coxph_fitter.py:1252\u001B[0m, in \u001B[0;36mSemiParametricPHFitter.fit\u001B[1;34m(self, df, duration_col, event_col, show_progress, initial_point, strata, weights_col, cluster_col, robust, batch_mode, timeline, formula, entry_col, fit_options)\u001B[0m\n\u001B[0;32m   1247\u001B[0m \u001B[38;5;66;03m# this is surprisingly faster to do...\u001B[39;00m\n\u001B[0;32m   1248\u001B[0m X_norm \u001B[38;5;241m=\u001B[39m pd\u001B[38;5;241m.\u001B[39mDataFrame(\n\u001B[0;32m   1249\u001B[0m     utils\u001B[38;5;241m.\u001B[39mnormalize(X\u001B[38;5;241m.\u001B[39mvalues, \u001B[38;5;28mself\u001B[39m\u001B[38;5;241m.\u001B[39m_norm_mean\u001B[38;5;241m.\u001B[39mvalues, \u001B[38;5;28mself\u001B[39m\u001B[38;5;241m.\u001B[39m_norm_std\u001B[38;5;241m.\u001B[39mvalues), index\u001B[38;5;241m=\u001B[39mX\u001B[38;5;241m.\u001B[39mindex, columns\u001B[38;5;241m=\u001B[39mX\u001B[38;5;241m.\u001B[39mcolumns\n\u001B[0;32m   1250\u001B[0m )\n\u001B[1;32m-> 1252\u001B[0m params_, ll_, variance_matrix_, baseline_hazard_, baseline_cumulative_hazard_, model \u001B[38;5;241m=\u001B[39m \u001B[38;5;28mself\u001B[39m\u001B[38;5;241m.\u001B[39m_fit_model(\n\u001B[0;32m   1253\u001B[0m     X_norm,\n\u001B[0;32m   1254\u001B[0m     T,\n\u001B[0;32m   1255\u001B[0m     E,\n\u001B[0;32m   1256\u001B[0m     weights\u001B[38;5;241m=\u001B[39mweights,\n\u001B[0;32m   1257\u001B[0m     entries\u001B[38;5;241m=\u001B[39mentries,\n\u001B[0;32m   1258\u001B[0m     fit_options\u001B[38;5;241m=\u001B[39mutils\u001B[38;5;241m.\u001B[39mcoalesce(fit_options, \u001B[38;5;28mdict\u001B[39m()),\n\u001B[0;32m   1259\u001B[0m     initial_point\u001B[38;5;241m=\u001B[39minitial_point,\n\u001B[0;32m   1260\u001B[0m     show_progress\u001B[38;5;241m=\u001B[39mshow_progress,\n\u001B[0;32m   1261\u001B[0m )\n\u001B[0;32m   1263\u001B[0m \u001B[38;5;28mself\u001B[39m\u001B[38;5;241m.\u001B[39mlog_likelihood_ \u001B[38;5;241m=\u001B[39m ll_\n\u001B[0;32m   1264\u001B[0m \u001B[38;5;28mself\u001B[39m\u001B[38;5;241m.\u001B[39mmodel \u001B[38;5;241m=\u001B[39m model\n",
      "File \u001B[1;32m~\\anaconda3\\envs\\NN\\Lib\\site-packages\\lifelines\\fitters\\coxph_fitter.py:1380\u001B[0m, in \u001B[0;36mSemiParametricPHFitter._fit_model\u001B[1;34m(self, X, T, E, weights, entries, fit_options, initial_point, show_progress)\u001B[0m\n\u001B[0;32m   1369\u001B[0m \u001B[38;5;28;01mdef\u001B[39;00m \u001B[38;5;21m_fit_model\u001B[39m(\n\u001B[0;32m   1370\u001B[0m     \u001B[38;5;28mself\u001B[39m,\n\u001B[0;32m   1371\u001B[0m     X: DataFrame,\n\u001B[1;32m   (...)\u001B[0m\n\u001B[0;32m   1378\u001B[0m     show_progress: \u001B[38;5;28mbool\u001B[39m \u001B[38;5;241m=\u001B[39m \u001B[38;5;28;01mTrue\u001B[39;00m,\n\u001B[0;32m   1379\u001B[0m ):\n\u001B[1;32m-> 1380\u001B[0m     beta_, ll_, hessian_ \u001B[38;5;241m=\u001B[39m \u001B[38;5;28mself\u001B[39m\u001B[38;5;241m.\u001B[39m_newton_raphson_for_efron_model(\n\u001B[0;32m   1381\u001B[0m         X,\n\u001B[0;32m   1382\u001B[0m         T,\n\u001B[0;32m   1383\u001B[0m         E,\n\u001B[0;32m   1384\u001B[0m         weights,\n\u001B[0;32m   1385\u001B[0m         entries,\n\u001B[0;32m   1386\u001B[0m         initial_point\u001B[38;5;241m=\u001B[39minitial_point,\n\u001B[0;32m   1387\u001B[0m         show_progress\u001B[38;5;241m=\u001B[39mshow_progress,\n\u001B[0;32m   1388\u001B[0m         \u001B[38;5;241m*\u001B[39m\u001B[38;5;241m*\u001B[39mfit_options,\n\u001B[0;32m   1389\u001B[0m     )\n\u001B[0;32m   1391\u001B[0m     \u001B[38;5;66;03m# compute the baseline hazard here.\u001B[39;00m\n\u001B[0;32m   1392\u001B[0m     predicted_partial_hazards_ \u001B[38;5;241m=\u001B[39m (\n\u001B[0;32m   1393\u001B[0m         pd\u001B[38;5;241m.\u001B[39mDataFrame(np\u001B[38;5;241m.\u001B[39mexp(dot(X, beta_)), columns\u001B[38;5;241m=\u001B[39m[\u001B[38;5;124m\"\u001B[39m\u001B[38;5;124mP\u001B[39m\u001B[38;5;124m\"\u001B[39m])\u001B[38;5;241m.\u001B[39massign(T\u001B[38;5;241m=\u001B[39mT\u001B[38;5;241m.\u001B[39mvalues, E\u001B[38;5;241m=\u001B[39mE\u001B[38;5;241m.\u001B[39mvalues, W\u001B[38;5;241m=\u001B[39mweights\u001B[38;5;241m.\u001B[39mvalues)\u001B[38;5;241m.\u001B[39mset_index(X\u001B[38;5;241m.\u001B[39mindex)\n\u001B[0;32m   1394\u001B[0m     )\n",
      "File \u001B[1;32m~\\anaconda3\\envs\\NN\\Lib\\site-packages\\lifelines\\fitters\\coxph_fitter.py:1553\u001B[0m, in \u001B[0;36mSemiParametricPHFitter._newton_raphson_for_efron_model\u001B[1;34m(self, X, T, E, weights, entries, initial_point, show_progress, step_size, precision, r_precision, max_steps)\u001B[0m\n\u001B[0;32m   1551\u001B[0m \u001B[38;5;28;01mif\u001B[39;00m np\u001B[38;5;241m.\u001B[39many(np\u001B[38;5;241m.\u001B[39misnan(delta)):\n\u001B[0;32m   1552\u001B[0m     \u001B[38;5;28mself\u001B[39m\u001B[38;5;241m.\u001B[39m_check_values_post_fitting(X, T, E, weights)\n\u001B[1;32m-> 1553\u001B[0m     \u001B[38;5;28;01mraise\u001B[39;00m exceptions\u001B[38;5;241m.\u001B[39mConvergenceError(\n\u001B[0;32m   1554\u001B[0m \u001B[38;5;250m        \u001B[39m\u001B[38;5;124;03m\"\"\"delta contains nan value(s). Convergence halted. {0}\"\"\"\u001B[39;00m\u001B[38;5;241m.\u001B[39mformat(CONVERGENCE_DOCS)\n\u001B[0;32m   1555\u001B[0m     )\n\u001B[0;32m   1557\u001B[0m \u001B[38;5;66;03m# Save these as pending result\u001B[39;00m\n\u001B[0;32m   1558\u001B[0m hessian, gradient \u001B[38;5;241m=\u001B[39m h, g\n",
      "\u001B[1;31mConvergenceError\u001B[0m: delta contains nan value(s). Convergence halted. Please see the following tips in the lifelines documentation: https://lifelines.readthedocs.io/en/latest/Examples.html#problems-with-convergence-in-the-cox-proportional-hazard-model"
     ]
    }
   ],
   "execution_count": 44
  },
  {
   "metadata": {},
   "cell_type": "code",
   "outputs": [],
   "execution_count": null,
   "source": "",
   "id": "1deee144eda50b2b"
  }
 ],
 "metadata": {
  "kernelspec": {
   "display_name": "Python 3",
   "language": "python",
   "name": "python3"
  },
  "language_info": {
   "codemirror_mode": {
    "name": "ipython",
    "version": 2
   },
   "file_extension": ".py",
   "mimetype": "text/x-python",
   "name": "python",
   "nbconvert_exporter": "python",
   "pygments_lexer": "ipython2",
   "version": "2.7.6"
  }
 },
 "nbformat": 4,
 "nbformat_minor": 5
}
