{
 "cells": [
  {
   "metadata": {
    "ExecuteTime": {
     "end_time": "2024-04-23T07:53:10.506082Z",
     "start_time": "2024-04-23T07:53:10.465178Z"
    }
   },
   "cell_type": "code",
   "source": [
    "import pandas as pd\n",
    "import numpy as np\n",
    "import matplotlib.pyplot as plt\n",
    "\n",
    "# 读取数据C:\\MyProject\\MIMIC-IPE\\base10.csv\n",
    "data = pd.read_csv('C:/MyProject/MIMIC-IPE/base10.csv')\n",
    "# 获取data中的所有列名、列中空值计数和列中空值占比，形成一个新的DataFrame\n",
    "data_info = pd.DataFrame(data.columns, columns=['column_name'])\n",
    "data_info['missing_count'] = data.isnull().sum().values\n",
    "# 将空值占比转换为百分数形式\n",
    "data_info['missing_rate'] = (data.isnull().sum().values / data.shape[0] * 100).round(2)"
   ],
   "id": "dbe67769daaad2d2",
   "outputs": [],
   "execution_count": 6
  },
  {
   "metadata": {
    "ExecuteTime": {
     "end_time": "2024-04-23T07:53:10.877950Z",
     "start_time": "2024-04-23T07:53:10.863757Z"
    }
   },
   "cell_type": "code",
   "source": [
    "# 删除data中列名的最后两个字符串为\"_1\"的列\n",
    "data.drop(data.columns[data.columns.str.endswith('_1')], axis=1, inplace=True)\n",
    "# 获取data中的所有列名、列中空值计数和列中空值占比，形成一个新的DataFrame\n",
    "data_info = pd.DataFrame(data.columns, columns=['column_name'])\n",
    "data_info['missing_count'] = data.isnull().sum().values\n",
    "# 将空值占比转换为百分数形式\n",
    "data_info['missing_rate'] = (data.isnull().sum().values / data.shape[0] * 100).round(2)"
   ],
   "id": "d08556b78657dda",
   "outputs": [],
   "execution_count": 7
  },
  {
   "metadata": {
    "ExecuteTime": {
     "end_time": "2024-04-23T07:53:11.312722Z",
     "start_time": "2024-04-23T07:53:11.304646Z"
    }
   },
   "cell_type": "code",
   "source": [
    "# 设置subject_id，hadm_id，stay_id为索引\n",
    "data.set_index(['subject_id', 'hadm_id'], inplace\n",
    "                =True)\n"
   ],
   "id": "624fb93d3b15a1da",
   "outputs": [],
   "execution_count": 8
  },
  {
   "metadata": {},
   "cell_type": "code",
   "outputs": [],
   "execution_count": null,
   "source": "",
   "id": "375eb1b03849343f"
  }
 ],
 "metadata": {
  "kernelspec": {
   "display_name": "Python 3",
   "language": "python",
   "name": "python3"
  },
  "language_info": {
   "codemirror_mode": {
    "name": "ipython",
    "version": 2
   },
   "file_extension": ".py",
   "mimetype": "text/x-python",
   "name": "python",
   "nbconvert_exporter": "python",
   "pygments_lexer": "ipython2",
   "version": "2.7.6"
  }
 },
 "nbformat": 4,
 "nbformat_minor": 5
}
