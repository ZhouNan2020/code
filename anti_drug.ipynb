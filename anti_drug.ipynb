{
 "cells": [
  {
   "cell_type": "code",
   "id": "initial_id",
   "metadata": {
    "collapsed": true,
    "ExecuteTime": {
     "end_time": "2024-04-26T06:42:11.013357Z",
     "start_time": "2024-04-26T06:42:11.008679Z"
    }
   },
   "source": [
    "import numpy as np\n",
    "import matplotlib.pyplot as plt\n",
    "import pandas as pd"
   ],
   "outputs": [],
   "execution_count": 9
  },
  {
   "metadata": {
    "ExecuteTime": {
     "end_time": "2024-04-26T06:42:11.520045Z",
     "start_time": "2024-04-26T06:42:11.437520Z"
    }
   },
   "cell_type": "code",
   "source": [
    "# 读取C:\\MyProject\\MIMIC-IPE\\data\\anti_coagulation_drug.csv\n",
    "data = pd.read_csv('C:/MyProject/MIMIC-IPE/data/anti_coagulation_drug.csv')\n",
    "# 删除data中event_txt列中值为Not Given的行\n",
    "data = data[data['event_txt'] != 'Not Given']\n",
    "# 删除data中event_txt列中值为Flushed的行\n",
    "data = data[data['event_txt'] != 'Flushed']\n",
    "# 增加一列count，值为1\n",
    "data['count'] = 1\n",
    "# pivot_table，index为subject_id和hadm_id，columns为medication_category，values为count，聚合函数为sum\n",
    "data = data.pivot_table(index=['subject_id', 'hadm_id'], columns='medication_category', values='count', aggfunc='sum')"
   ],
   "id": "2a857fc03a799930",
   "outputs": [],
   "execution_count": 10
  },
  {
   "metadata": {
    "ExecuteTime": {
     "end_time": "2024-04-26T06:42:11.994297Z",
     "start_time": "2024-04-26T06:42:11.985364Z"
    }
   },
   "cell_type": "code",
   "source": [
    "# 将所有大于1的值设置为1，将所有NaN值设置为0\n",
    "data = data.applymap(lambda x: 1 if x > 1 else 0)\n",
    "data = data.fillna(0)"
   ],
   "id": "2c2a6731f83fac2a",
   "outputs": [
    {
     "name": "stderr",
     "output_type": "stream",
     "text": [
      "C:\\Users\\ZhouNan\\AppData\\Local\\Temp\\ipykernel_13272\\4238572692.py:2: FutureWarning: DataFrame.applymap has been deprecated. Use DataFrame.map instead.\n",
      "  data = data.applymap(lambda x: 1 if x > 1 else 0)\n"
     ]
    }
   ],
   "execution_count": 11
  },
  {
   "metadata": {
    "ExecuteTime": {
     "end_time": "2024-04-26T06:42:13.904636Z",
     "start_time": "2024-04-26T06:42:13.866398Z"
    }
   },
   "cell_type": "code",
   "source": [
    "# 重置索引\n",
    "data = data.reset_index()\n",
    "# 读取C:\\MyProject\\MIMIC-IPE\\data\\base10.csv\n",
    "base = pd.read_csv('C:/MyProject/MIMIC-IPE/data/base10.csv')"
   ],
   "id": "e892f1b88e61b5c0",
   "outputs": [],
   "execution_count": 12
  },
  {
   "metadata": {
    "ExecuteTime": {
     "end_time": "2024-04-26T06:42:52.453188Z",
     "start_time": "2024-04-26T06:42:52.442277Z"
    }
   },
   "cell_type": "code",
   "source": [
    "# 合并data和base，以subject_id和hadm_id为键，只保留base的Group_Label列，保留所有data的列\n",
    "df = pd.merge(data, base[['subject_id', 'hadm_id', 'Group_Label']], on=['subject_id', 'hadm_id'], how='left')\n"
   ],
   "id": "e7bb480d1bac42a2",
   "outputs": [],
   "execution_count": 13
  },
  {
   "metadata": {
    "ExecuteTime": {
     "end_time": "2024-04-26T06:44:20.799976Z",
     "start_time": "2024-04-26T06:44:20.790629Z"
    }
   },
   "cell_type": "code",
   "source": [
    "# 存储df到C:\\MyProject\\MIMIC-IPE\\data\\合并抗凝用药\n",
    "df.to_csv('C:/MyProject/MIMIC-IPE/data/合并抗凝用药.csv', index=False)"
   ],
   "id": "52eafb732632f86c",
   "outputs": [],
   "execution_count": 16
  },
  {
   "metadata": {},
   "cell_type": "code",
   "outputs": [],
   "execution_count": null,
   "source": "",
   "id": "6c3b7b94af83b1c0"
  }
 ],
 "metadata": {
  "kernelspec": {
   "display_name": "Python 3",
   "language": "python",
   "name": "python3"
  },
  "language_info": {
   "codemirror_mode": {
    "name": "ipython",
    "version": 2
   },
   "file_extension": ".py",
   "mimetype": "text/x-python",
   "name": "python",
   "nbconvert_exporter": "python",
   "pygments_lexer": "ipython2",
   "version": "2.7.6"
  }
 },
 "nbformat": 4,
 "nbformat_minor": 5
}
