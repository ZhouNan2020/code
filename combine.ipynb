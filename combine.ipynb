{
 "cells": [
  {
   "cell_type": "code",
   "id": "initial_id",
   "metadata": {
    "collapsed": true,
    "ExecuteTime": {
     "end_time": "2024-05-24T01:48:28.738340Z",
     "start_time": "2024-05-24T01:48:28.733191Z"
    }
   },
   "source": [
    "import numpy as np\n",
    "import matplotlib.pyplot as plt\n",
    "import pandas as pd"
   ],
   "outputs": [],
   "execution_count": 1
  },
  {
   "metadata": {
    "ExecuteTime": {
     "end_time": "2024-05-24T01:48:28.981223Z",
     "start_time": "2024-05-24T01:48:28.740362Z"
    }
   },
   "cell_type": "code",
   "source": [
    "# 读取数据C:\\MyProject\\MIMIC-IPE\\data\\所有合并疾病.csv\n",
    "data = pd.read_csv('C:/MyProject/MIMIC-IPE/data/所有合并疾病.csv')\n",
    "\n",
    "# 删除data中的列名后两位字符为“_1”的列\n",
    "data = data.loc[:, ~data.columns.str.endswith('_1')]\n",
    "# 筛选出与特定ICD-9和ICD-10代码匹配的行\n",
    "# 移除了ICD代码中的小数点，并且不区分ICD版本\n",
    "codes_icd9 = ['28981', '2864']\n",
    "codes_icd10 = ['D685', 'D6851', 'D6859', 'D6861', 'D683']\n",
    "\n",
    "'''\n",
    "按照以下对应关系，将疾病编码整合\n",
    "Primary Thrombocytopenia：28981\n",
    "Disseminated Intravascular Coagulation (DIC)：2864\n",
    "Thrombotic Thrombocytopenic Purpura：D685, D6851, D6859\n",
    "Other Coagulation Defects：D6861\n",
    "Antiphospholipid Syndrome：D683\n",
    "'''\n",
    "# 创建ICD编码到疾病名称的映射\n",
    "icd_mapping = {\n",
    "    '28981': 'Primary Thrombocytopenia',\n",
    "    '2864': 'Disseminated Intravascular Coagulation (DIC)',\n",
    "    'D685': 'Thrombotic Thrombocytopenic Purpura',\n",
    "    'D6851': 'Thrombotic Thrombocytopenic Purpura',\n",
    "    'D6859': 'Thrombotic Thrombocytopenic Purpura',\n",
    "    'D6861': 'Other Coagulation Defects',\n",
    "    'D683': 'Antiphospholipid Syndrome'\n",
    "}\n",
    "\n",
    "# 使用映射替换ICD编码\n",
    "# data['icd_code'] = data['icd_code'].replace(icd_mapping)\n",
    "data['Blood-related diseases'] = data['icd_code'].replace(icd_mapping)\n",
    "# 将data中Blood-related diseases列不在以上范围内的值替换为字符串“No such disease”\n",
    "# Get a boolean series representing which row satisfies the condition i.e. is in icd_mapping\n",
    "seriesObj = data['Blood-related diseases'].isin(icd_mapping.values())\n",
    "# Replace values where the condition is False\n",
    "data['Blood-related diseases'] = data['Blood-related diseases'].where(seriesObj, other='No Blood-related disease')\n",
    "\n",
    "\n",
    "'''\n",
    "按照以下对应关系，将疾病编码整合\n",
    "icd9_mapping = {\n",
    "    '43411': 'Previous Stroke',\n",
    "    '435': 'TIA',\n",
    "    '4019': 'Hypertension',\n",
    "    '41401': 'CAD',\n",
    "    '4439': 'PAD',\n",
    "    '4280': 'Heart failure',\n",
    "    '42731': 'Atrial fibrillation',\n",
    "    '25000': 'Diabetes'\n",
    "}\n",
    "\n",
    "icd10_mapping = {\n",
    "    'I63': 'Previous Stroke',\n",
    "    'G45': 'TIA',\n",
    "    'I10': 'Hypertension',\n",
    "    'I25': 'CAD',\n",
    "    'I739': 'PAD',\n",
    "    'I50': 'Heart failure',\n",
    "    'I48': 'Atrial fibrillation',\n",
    "    'E11': 'Diabetes'\n",
    "}\n",
    "'''\n",
    "# 创建ICD编码到疾病名称的映射，将相同疾病的ICD编码整合\n",
    "icd_mapping = {\n",
    "    '43411': 'Previous Stroke',\n",
    "    'I63': 'Previous Stroke',\n",
    "    '435': 'TIA',\n",
    "    'G45': 'TIA',\n",
    "    '4019': 'Hypertension',\n",
    "    'I10': 'Hypertension',\n",
    "    '41401': 'CAD',\n",
    "    'I25': 'CAD',\n",
    "    '4439': 'PAD',\n",
    "    'I739': 'PAD',\n",
    "    '4280': 'Heart failure',\n",
    "    'I50': 'Heart failure',\n",
    "    '42731': 'Atrial fibrillation',\n",
    "    'I48': 'Atrial fibrillation',\n",
    "    '25000': 'Diabetes',\n",
    "    'E11': 'Diabetes'\n",
    "}\n",
    "# 使用映射替换ICD编码\n",
    "# data['icd_code'] = data['icd_code'].replace(icd_mapping)\n",
    "data['Cardiovascular and metabolic diseases'] = data['icd_code'].replace(icd_mapping)\n",
    "'''\n",
    "参照以上代码的逻辑，将data中Cardiovascular and metabolic diseases列不在以上范围内的值替换为字符串“No such disease”'''\n",
    "seriesObj = data['Cardiovascular and metabolic diseases'].isin(icd_mapping.values())\n",
    "# Replace values where the condition is False\n",
    "data['Cardiovascular and metabolic diseases'] = data['Cardiovascular and metabolic diseases'].where(seriesObj, other='No Cardiovascular and metabolic diseases')\n",
    "\n",
    "'''\n",
    "按照以下对应关系，将疾病编码整合：\n",
    "Lung_Tumor（肺肿瘤）：162（特指肺部肿瘤）、C34（包括所有肺部肿瘤的子分类）\n",
    "Other_Solid_Tumor（其他实体瘤）：140-209（实体瘤的广泛范围，但不包括血液和淋巴系统的肿瘤，即排除200-209，也不包括肺部肿瘤162）、C00-D48（实体瘤的广泛范围，但不包括淋巴和造血组织的肿瘤，即排除C81-C96，同时不包括肺部肿瘤C34）\n",
    "Non_Solid_Tumor（非实体瘤）：200-209（专门指血液和淋巴系统的肿瘤，如淋巴瘤和白血病）、C81-C96（同样指血液和淋巴系统的肿瘤，包括各种类型的淋巴瘤和白血病）\n",
    "'''\n",
    "# 函数用于判断ICD代码是否在特定范围内，根据icd_code的前3位字符判断\n",
    "def icd_range(icd_code, start, end):\n",
    "    return icd_code[:3] >= start and icd_code[:3] <= end\n",
    "\n",
    "# 创建ICD编码到疾病名称的映射\n",
    "def map_icd_to_disease(icd_code):\n",
    "    # Check if the ICD code falls within the range for Lung Tumor\n",
    "    if icd_range(icd_code, '162', '162') or icd_range(icd_code, 'C34', 'C34'):\n",
    "        return 'Lung_Tumor'\n",
    "    # Check if the ICD code falls within the range for Breast Cancer\n",
    "    elif icd_range(icd_code, '174', '174') or icd_range(icd_code, 'C50', 'C50'):\n",
    "        return 'Breast_Cancer'\n",
    "    # Check if the ICD code falls within the range for Colorectal Cancer\n",
    "    elif icd_range(icd_code, '153', '154') or icd_range(icd_code, 'C18', 'C21'):\n",
    "        return 'Colorectal_Cancer'\n",
    "    # Check if the ICD code falls within the range for Prostate Cancer\n",
    "    elif icd_range(icd_code, '185', '185') or icd_range(icd_code, 'C61', 'C61'):\n",
    "        return 'Prostate_Cancer'\n",
    "    # Check if the ICD code falls within the range for Stomach Cancer\n",
    "    elif icd_range(icd_code, '151', '151') or icd_range(icd_code, 'C16', 'C16'):\n",
    "        return 'Stomach_Cancer'\n",
    "    # Check if the ICD code falls within the range for Other Solid Tumor\n",
    "    elif (icd_range(icd_code, '140', '199') or icd_range(icd_code, '210', '209') or\n",
    "          icd_range(icd_code, 'C00', 'C33') or icd_range(icd_code, 'C35', 'D48')):\n",
    "        return 'Other_Solid_Tumor'\n",
    "    # Check if the ICD code falls within the range for Non-Solid Tumor\n",
    "    elif icd_range(icd_code, '200', '209') or icd_range(icd_code, 'C81', 'C96'):\n",
    "        return 'Non_Solid_Tumor'\n",
    "    else:\n",
    "        return 'No tumor disease'\n",
    "\n",
    "    \n",
    "    \n",
    "    \n",
    "# 替换data中的icd_code列的值\n",
    "data['icd_code'] = data['icd_code'].apply(map_icd_to_disease)"
   ],
   "id": "3c74367884efdc1a",
   "outputs": [],
   "execution_count": 2
  },
  {
   "metadata": {
    "ExecuteTime": {
     "end_time": "2024-05-24T01:48:28.988782Z",
     "start_time": "2024-05-24T01:48:28.982229Z"
    }
   },
   "cell_type": "code",
   "source": [
    "# 将data中icd_code更名为tumor_disease\n",
    "data.rename(columns={'icd_code': 'tumor_disease'}, inplace=True)"
   ],
   "id": "2ef53071e63f6757",
   "outputs": [],
   "execution_count": 3
  },
  {
   "metadata": {
    "ExecuteTime": {
     "end_time": "2024-05-24T01:48:29.001404Z",
     "start_time": "2024-05-24T01:48:28.990794Z"
    }
   },
   "cell_type": "code",
   "source": [
    "# 查看data中的列，存入一个datafrmae\n",
    "columns = pd.DataFrame(data.columns)\n",
    "'''\n",
    "data保留以下列：\n",
    "subject_id\n",
    "hadm_id\n",
    "tumor_disease\n",
    "Blood-related diseases\n",
    "Cardiovascular and metabolic diseases\n",
    "'''\n",
    "data = data[['subject_id', 'hadm_id', 'tumor_disease', 'Blood-related diseases', 'Cardiovascular and metabolic diseases']]\n"
   ],
   "id": "da2f3d01d94a6e92",
   "outputs": [],
   "execution_count": 4
  },
  {
   "metadata": {
    "ExecuteTime": {
     "end_time": "2024-05-24T01:48:38.804486Z",
     "start_time": "2024-05-24T01:48:38.613387Z"
    }
   },
   "cell_type": "code",
   "source": [
    "# 将data中的行按照subject_id和hadm_id列中相同的值合并，如果tumor_disease列中一个id下对应的值全部为No tumor disease，则合并后的值为No tumor disease，否则为tumor_disease列中的任意非No tumor disease值。如果Blood-related diseases列中一个id下对应的值全部为No Blood-related disease，则合并后的值为No Blood-related disease，否则为Blood-related diseases列中的任意非No Blood-related disease值。如果Cardiovascular and metabolic diseases列中一个id下对应的值全部为No Cardiovascular and metabolic diseases，则合并后的值为No Cardiovascular and metabolic diseases，否则为Cardiovascular and metabolic diseases列中的任意非No Cardiovascular and metabolic diseases值。\n",
    "\n",
    "\n",
    "# Custom aggregation function\n",
    "def aggregate_disease(values, no_disease_label):\n",
    "    if all(value == no_disease_label for value in values):\n",
    "        return no_disease_label\n",
    "    else:\n",
    "        # Return any non-\"No disease\" value\n",
    "        return next((value for value in values if value != no_disease_label), no_disease_label)\n",
    "\n",
    "# Grouping and aggregating\n",
    "data = data.groupby(['subject_id', 'hadm_id']).agg({\n",
    "    'tumor_disease': lambda x: aggregate_disease(x, 'No tumor disease'),\n",
    "    'Blood-related diseases': lambda x: aggregate_disease(x, 'No Blood-related disease'),\n",
    "    'Cardiovascular and metabolic diseases': lambda x: aggregate_disease(x, 'No Cardiovascular and metabolic diseases')\n",
    "}).reset_index()\n",
    "\n",
    "\n"
   ],
   "id": "bb448401745d839a",
   "outputs": [],
   "execution_count": 5
  },
  {
   "metadata": {
    "ExecuteTime": {
     "end_time": "2024-05-24T01:48:39.713300Z",
     "start_time": "2024-05-24T01:48:39.679031Z"
    }
   },
   "cell_type": "code",
   "source": [
    "# data增加一列count，值为1\n",
    "data['count'] = 1\n",
    "# pivot，首先pivot Blood-related diseases列，以subject_id和hadm_id为索引，count为值\n",
    "blood_related_pivot = data.pivot_table(index=['subject_id', 'hadm_id'], columns='Blood-related diseases', values='count', aggfunc='sum', fill_value=0)\n",
    "# pivot，然后pivot Cardiovascular and metabolic diseases列，以subject_id和hadm_id为索引，count为值\n",
    "cardiovascular_metabolic_pivot = data.pivot_table(index=['subject_id', 'hadm_id'], columns='Cardiovascular and metabolic diseases', values='count', aggfunc='sum', fill_value=0)\n",
    "# pivot，最后pivot tumor_disease列，以subject_id和hadm_id为索引，count为值\n",
    "tumor_pivot = data.pivot_table(index=['subject_id', 'hadm_id'], columns='tumor_disease', values='count', aggfunc='sum', fill_value=0)\n",
    "# 重置以上3个表的索引\n",
    "blood_related_pivot.reset_index(inplace=True)\n",
    "cardiovascular_metabolic_pivot.reset_index(inplace=True)\n",
    "tumor_pivot.reset_index(inplace=True)"
   ],
   "id": "fcbea918f629c418",
   "outputs": [],
   "execution_count": 6
  },
  {
   "metadata": {
    "ExecuteTime": {
     "end_time": "2024-05-24T01:48:41.517829Z",
     "start_time": "2024-05-24T01:48:41.503412Z"
    }
   },
   "cell_type": "code",
   "source": [
    "\n",
    "# 把以上3个表按照subject_id和hadm_id合并到data，以data的行数为基准，即左连接\n",
    "data = pd.merge(data, blood_related_pivot, on=['subject_id', 'hadm_id'], how='left')\n",
    "data = pd.merge(data, cardiovascular_metabolic_pivot, on=['subject_id', 'hadm_id'], how='left')\n",
    "data = pd.merge(data, tumor_pivot, on=['subject_id', 'hadm_id'], how='left')\n",
    "\n"
   ],
   "id": "92ca19953b030a99",
   "outputs": [],
   "execution_count": 7
  },
  {
   "metadata": {
    "ExecuteTime": {
     "end_time": "2024-05-24T01:49:07.613843Z",
     "start_time": "2024-05-24T01:49:07.593396Z"
    }
   },
   "cell_type": "code",
   "source": [
    "# 保存数据到C:\\MyProject\\MIMIC-IPE\\data\\anti_combine.csv\n",
    "data.to_csv('C:/MyProject/MIMIC-IPE/data/anti_combine.csv', index=False)"
   ],
   "id": "eea023680363389f",
   "outputs": [],
   "execution_count": 8
  },
  {
   "metadata": {},
   "cell_type": "code",
   "outputs": [],
   "execution_count": null,
   "source": "",
   "id": "8cef76ef5aff4d42"
  }
 ],
 "metadata": {
  "kernelspec": {
   "display_name": "Python 3",
   "language": "python",
   "name": "python3"
  },
  "language_info": {
   "codemirror_mode": {
    "name": "ipython",
    "version": 2
   },
   "file_extension": ".py",
   "mimetype": "text/x-python",
   "name": "python",
   "nbconvert_exporter": "python",
   "pygments_lexer": "ipython2",
   "version": "2.7.6"
  }
 },
 "nbformat": 4,
 "nbformat_minor": 5
}
