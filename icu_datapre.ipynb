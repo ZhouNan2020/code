{
 "cells": [
  {
   "cell_type": "code",
   "id": "initial_id",
   "metadata": {
    "collapsed": true,
    "ExecuteTime": {
     "end_time": "2024-04-23T07:41:52.261150Z",
     "start_time": "2024-04-23T07:41:50.558549Z"
    }
   },
   "source": [
    "import pandas as pd \n",
    "import numpy as np\n",
    "import matplotlib.pyplot as plt"
   ],
   "outputs": [],
   "execution_count": 1
  },
  {
   "metadata": {
    "ExecuteTime": {
     "end_time": "2024-04-23T07:42:10.812223Z",
     "start_time": "2024-04-23T07:42:10.746193Z"
    }
   },
   "cell_type": "code",
   "source": [
    "# 读取数据C:\\MyProject\\MIMIC-IPE\\base10.csv\n",
    "data = pd.read_csv('C:/MyProject/MIMIC-IPE/base10.csv')\n",
    "# 获取data中的所有列名、列中空值计数和列中空值占比，形成一个新的DataFrame\n",
    "data_info = pd.DataFrame(data.columns, columns=['column_name'])\n",
    "data_info['missing_count'] = data.isnull().sum().values\n",
    "# 将空值占比转换为百分数形式\n",
    "data_info['missing_rate'] = (data.isnull().sum().values / data.shape[0] * 100).round(2)\n"
   ],
   "id": "70c562caf7245591",
   "outputs": [],
   "execution_count": 2
  },
  {
   "metadata": {
    "ExecuteTime": {
     "end_time": "2024-04-23T07:42:55.068331Z",
     "start_time": "2024-04-23T07:42:55.017299Z"
    }
   },
   "cell_type": "code",
   "source": [
    "#查看subject_id，hadm_id，stay_id三列是否有,如果有，将重复的行记录存入一个新的DataFrame：df_dup\n",
    "df_dup = data[data.duplicated(['subject_id','hadm_id','stay_id'], keep=False)]\n",
    "# 从data中删除重复记录的其中一条\n",
    "data.drop_duplicates(['subject_id','hadm_id','stay_id'], keep='first', inplace=True)\n"
   ],
   "id": "91c331aa2a28d3d0",
   "outputs": [],
   "execution_count": 3
  },
  {
   "metadata": {
    "ExecuteTime": {
     "end_time": "2024-04-23T07:43:08.836262Z",
     "start_time": "2024-04-23T07:43:08.758203Z"
    }
   },
   "cell_type": "code",
   "source": [
    "# data只保留stay_id不为空的行，另存为一个新的DataFrame：icu_data,保存到C:\\MyProject\\MIMIC-IPE\\data\\icu_data.csv\n",
    "icu_data = data[data['stay_id'].notnull()]\n",
    "icu_data.to_csv('C:/MyProject/MIMIC-IPE/data/icu_data.csv', index=False)\n"
   ],
   "id": "712581b959b8bb77",
   "outputs": [],
   "execution_count": 4
  },
  {
   "metadata": {},
   "cell_type": "code",
   "outputs": [],
   "execution_count": null,
   "source": "",
   "id": "4fe62cce86b1e256"
  }
 ],
 "metadata": {
  "kernelspec": {
   "display_name": "Python 3",
   "language": "python",
   "name": "python3"
  },
  "language_info": {
   "codemirror_mode": {
    "name": "ipython",
    "version": 2
   },
   "file_extension": ".py",
   "mimetype": "text/x-python",
   "name": "python",
   "nbconvert_exporter": "python",
   "pygments_lexer": "ipython2",
   "version": "2.7.6"
  }
 },
 "nbformat": 4,
 "nbformat_minor": 5
}
