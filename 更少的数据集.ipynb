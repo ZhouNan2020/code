{
 "cells": [
  {
   "cell_type": "code",
   "id": "initial_id",
   "metadata": {
    "collapsed": true,
    "ExecuteTime": {
     "end_time": "2024-04-27T01:32:40.373040Z",
     "start_time": "2024-04-27T01:32:40.367540Z"
    }
   },
   "source": [
    "import pandas as pd\n",
    "import numpy as np"
   ],
   "outputs": [],
   "execution_count": 4
  },
  {
   "metadata": {
    "ExecuteTime": {
     "end_time": "2024-04-27T01:32:40.803254Z",
     "start_time": "2024-04-27T01:32:40.791677Z"
    }
   },
   "cell_type": "code",
   "source": [
    "# 读取C:\\MyProject\\MIMIC-IPE\\data\\更少的数据集.csv\n",
    "data = pd.read_csv('C:/MyProject/MIMIC-IPE/data/更少的数据集.csv')"
   ],
   "id": "3d9a74a0469def4",
   "outputs": [],
   "execution_count": 5
  },
  {
   "metadata": {
    "ExecuteTime": {
     "end_time": "2024-04-27T01:32:41.611816Z",
     "start_time": "2024-04-27T01:32:41.607408Z"
    }
   },
   "cell_type": "code",
   "source": "",
   "id": "3ae7259567714287",
   "outputs": [],
   "execution_count": 5
  },
  {
   "metadata": {
    "ExecuteTime": {
     "end_time": "2024-04-27T01:32:52.023472Z",
     "start_time": "2024-04-27T01:32:42.119066Z"
    }
   },
   "cell_type": "code",
   "source": [
    "import pandas as pd\n",
    "\n",
    "# 定义要筛选的文件路径列表\n",
    "file_paths = [\n",
    "    \"C:/MyProject/MIMIC-IPE/data/base10.csv\",\n",
    "    \"C:/MyProject/MIMIC-IPE/data/full_dataforcox.csv\",\n",
    "    \"C:/MyProject/MIMIC-IPE/data/anti_combine.csv\",\n",
    "    \"C:/MyProject/MIMIC-IPE/data/anti_coagulation_drug.csv\",\n",
    "    \"C:/MyProject/MIMIC-IPE/data/住院时间与ICU时间.csv\",\n",
    "    \"C:/MyProject/MIMIC-IPE/data/再入院情况表.csv\",\n",
    "    \"C:/MyProject/MIMIC-IPE/data/合并抗凝用药.csv\",\n",
    "    \"C:/MyProject/MIMIC-IPE/data/所有合并疾病.csv\",\n",
    "    \"C:/MyProject/MIMIC-IPE/data/死在哪一次住院.csv\"\n",
    "]\n",
    "\n",
    "import pandas as pd\n",
    "\n",
    "# 假设 'data' DataFrame 已经被定义，如下：\n",
    "# data = pd.DataFrame({\n",
    "#     'subject_id': [123, 456, 789],\n",
    "#     'hadm_id': [101, 102, 103]\n",
    "# })\n",
    "\n",
    "file_paths = [\n",
    "    \"C:/MyProject/MIMIC-IPE/data/base10.csv\",\n",
    "    \"C:/MyProject/MIMIC-IPE/data/full_dataforcox.csv\",\n",
    "    \"C:/MyProject/MIMIC-IPE/data/anti_combine.csv\",\n",
    "    \"C:/MyProject/MIMIC-IPE/data/anti_coagulation_drug.csv\",\n",
    "    \"C:/MyProject/MIMIC-IPE/data/住院时间与ICU时间.csv\",\n",
    "    \"C:/MyProject/MIMIC-IPE/data/再入院情况表.csv\",\n",
    "    \"C:/MyProject/MIMIC-IPE/data/合并抗凝用药.csv\",\n",
    "    \"C:/MyProject/MIMIC-IPE/data/所有合并疾病.csv\",\n",
    "    \"C:/MyProject/MIMIC-IPE/data/死在哪一次住院.csv\"\n",
    "]\n",
    "\n",
    "for file_path in file_paths:\n",
    "    # 加载每个文件\n",
    "    df = pd.read_csv(file_path)\n",
    "\n",
    "    # 检查 'hadm_id' 列是否存在\n",
    "    if 'hadm_id' in df.columns:\n",
    "        # 使用 subject_id 和 hadm_id 来判断\n",
    "        df['first_hosp'] = df.apply(lambda row: 1 if ((row['subject_id'], row['hadm_id']) in\n",
    "                                                    zip(data['subject_id'], data['hadm_id'])) else 0, axis=1)\n",
    "    else:\n",
    "        # 只使用 subject_id 来判断\n",
    "        df['first_hosp'] = df['subject_id'].apply(lambda x: 1 if x in data['subject_id'].values else 0)\n",
    "\n",
    "    # 将处理好的数据集保存到C:\\MyProject\\MIMIC-IPE\\加了中介变量的数据集，文件名为原文件名\n",
    "    output_path = \"C:/MyProject/MIMIC-IPE/加了中介变量的数据集/\" + file_path.split('/')[-1]\n",
    "    df.to_csv(output_path, index=False)\n",
    "\n",
    "print(\"处理完成。\")\n"
   ],
   "id": "d26dbf48bc1e86a",
   "outputs": [
    {
     "name": "stdout",
     "output_type": "stream",
     "text": [
      "处理完成。\n"
     ]
    }
   ],
   "execution_count": 6
  },
  {
   "metadata": {},
   "cell_type": "code",
   "outputs": [],
   "execution_count": null,
   "source": "",
   "id": "5400ade1371d4901"
  }
 ],
 "metadata": {
  "kernelspec": {
   "display_name": "Python 3",
   "language": "python",
   "name": "python3"
  },
  "language_info": {
   "codemirror_mode": {
    "name": "ipython",
    "version": 2
   },
   "file_extension": ".py",
   "mimetype": "text/x-python",
   "name": "python",
   "nbconvert_exporter": "python",
   "pygments_lexer": "ipython2",
   "version": "2.7.6"
  }
 },
 "nbformat": 4,
 "nbformat_minor": 5
}
